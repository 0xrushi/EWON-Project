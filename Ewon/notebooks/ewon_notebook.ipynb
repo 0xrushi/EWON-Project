{
 "cells": [
  {
   "cell_type": "code",
   "execution_count": 1,
   "metadata": {},
   "outputs": [],
   "source": [
    "from time import sleep\n",
    "import math\n",
    "import multiprocessing \n",
    "from adafruit_servokit import ServoKit\n",
    "import serial\n",
    "import sys\n",
    "import os\n",
    "import re\n"
   ]
  },
  {
   "cell_type": "code",
   "execution_count": 2,
   "metadata": {},
   "outputs": [
    {
     "data": {
      "text/plain": [
       "[('Servo 0', 0),\n",
       " ('Servo 1', 1),\n",
       " ('Servo 2', 2),\n",
       " ('Servo 3', 3),\n",
       " ('Servo 4', 4),\n",
       " ('Servo 5', 5),\n",
       " ('Servo 6', 6),\n",
       " ('Servo 7', 7),\n",
       " ('Servo 8', 8)]"
      ]
     },
     "execution_count": 2,
     "metadata": {},
     "output_type": "execute_result"
    }
   ],
   "source": [
    "options=[(f'Servo {i}', i) for i in range(0,9)]\n",
    "options"
   ]
  },
  {
   "cell_type": "code",
   "execution_count": 3,
   "metadata": {},
   "outputs": [
    {
     "data": {
      "application/vnd.jupyter.widget-view+json": {
       "model_id": "f6bec856a21c483ebb9cfeb67a6f4d1e",
       "version_major": 2,
       "version_minor": 0
      },
      "text/plain": [
       "Dropdown(description='Servo Number:', options=(('Servo 0', 0), ('Servo 1', 1), ('Servo 2', 2), ('Servo 3', 3),…"
      ]
     },
     "metadata": {},
     "output_type": "display_data"
    },
    {
     "data": {
      "application/vnd.jupyter.widget-view+json": {
       "model_id": "908d5275dd4a4ffa8ea24920f6b3f3cc",
       "version_major": 2,
       "version_minor": 0
      },
      "text/plain": [
       "FloatSlider(value=0.0, description='Servo Angle:', max=180.0, step=1.0)"
      ]
     },
     "metadata": {},
     "output_type": "display_data"
    },
    {
     "name": "stderr",
     "output_type": "stream",
     "text": [
      "2023-05-07 12:33:07,466 - DEBUG - handle_msg[f6bec856a21c483ebb9cfeb67a6f4d1e]({'header': {'date': datetime.datetime(2023, 5, 7, 17, 33, 7, 305000, tzinfo=tzutc()), 'msg_id': '3965a9830cd741cd8b9b2832cd733c3f', 'username': 'username', 'session': '8b386ba5d1074cb291d52b6bfff6bca0', 'msg_type': 'comm_msg', 'version': '5.2'}, 'msg_id': '3965a9830cd741cd8b9b2832cd733c3f', 'msg_type': 'comm_msg', 'parent_header': {}, 'metadata': {}, 'content': {'comm_id': 'f6bec856a21c483ebb9cfeb67a6f4d1e', 'data': {'method': 'update', 'state': {'index': 5}, 'buffer_paths': []}}, 'buffers': []})\n",
      "2023-05-07 12:33:08,704 - DEBUG - handle_msg[908d5275dd4a4ffa8ea24920f6b3f3cc]({'header': {'date': datetime.datetime(2023, 5, 7, 17, 33, 8, 675000, tzinfo=tzutc()), 'msg_id': '341e61e8f71c48a687f3d6c9b70e65d6', 'username': 'username', 'session': '8b386ba5d1074cb291d52b6bfff6bca0', 'msg_type': 'comm_msg', 'version': '5.2'}, 'msg_id': '341e61e8f71c48a687f3d6c9b70e65d6', 'msg_type': 'comm_msg', 'parent_header': {}, 'metadata': {}, 'content': {'comm_id': '908d5275dd4a4ffa8ea24920f6b3f3cc', 'data': {'method': 'update', 'state': {'value': 1}, 'buffer_paths': []}}, 'buffers': []})\n",
      "2023-05-07 12:33:09,316 - DEBUG - handle_msg[908d5275dd4a4ffa8ea24920f6b3f3cc]({'header': {'date': datetime.datetime(2023, 5, 7, 17, 33, 9, 293000, tzinfo=tzutc()), 'msg_id': '42354e0abe5844c991c0147c09b3c63b', 'username': 'username', 'session': '8b386ba5d1074cb291d52b6bfff6bca0', 'msg_type': 'comm_msg', 'version': '5.2'}, 'msg_id': '42354e0abe5844c991c0147c09b3c63b', 'msg_type': 'comm_msg', 'parent_header': {}, 'metadata': {}, 'content': {'comm_id': '908d5275dd4a4ffa8ea24920f6b3f3cc', 'data': {'method': 'update', 'state': {'value': 12}, 'buffer_paths': []}}, 'buffers': []})\n",
      "2023-05-07 12:33:09,369 - DEBUG - handle_msg[908d5275dd4a4ffa8ea24920f6b3f3cc]({'header': {'date': datetime.datetime(2023, 5, 7, 17, 33, 9, 349000, tzinfo=tzutc()), 'msg_id': 'c696160c742d427bbcee0ae1f18681d0', 'username': 'username', 'session': '8b386ba5d1074cb291d52b6bfff6bca0', 'msg_type': 'comm_msg', 'version': '5.2'}, 'msg_id': 'c696160c742d427bbcee0ae1f18681d0', 'msg_type': 'comm_msg', 'parent_header': {}, 'metadata': {}, 'content': {'comm_id': '908d5275dd4a4ffa8ea24920f6b3f3cc', 'data': {'method': 'update', 'state': {'value': 13}, 'buffer_paths': []}}, 'buffers': []})\n",
      "2023-05-07 12:33:09,482 - DEBUG - handle_msg[908d5275dd4a4ffa8ea24920f6b3f3cc]({'header': {'date': datetime.datetime(2023, 5, 7, 17, 33, 9, 458000, tzinfo=tzutc()), 'msg_id': 'e992492f95054280afede932e4352eff', 'username': 'username', 'session': '8b386ba5d1074cb291d52b6bfff6bca0', 'msg_type': 'comm_msg', 'version': '5.2'}, 'msg_id': 'e992492f95054280afede932e4352eff', 'msg_type': 'comm_msg', 'parent_header': {}, 'metadata': {}, 'content': {'comm_id': '908d5275dd4a4ffa8ea24920f6b3f3cc', 'data': {'method': 'update', 'state': {'value': 15}, 'buffer_paths': []}}, 'buffers': []})\n",
      "2023-05-07 12:33:16,876 - DEBUG - handle_msg[908d5275dd4a4ffa8ea24920f6b3f3cc]({'header': {'date': datetime.datetime(2023, 5, 7, 17, 33, 16, 843000, tzinfo=tzutc()), 'msg_id': 'ee62d89efac14f678bd79a55e8fc1895', 'username': 'username', 'session': '8b386ba5d1074cb291d52b6bfff6bca0', 'msg_type': 'comm_msg', 'version': '5.2'}, 'msg_id': 'ee62d89efac14f678bd79a55e8fc1895', 'msg_type': 'comm_msg', 'parent_header': {}, 'metadata': {}, 'content': {'comm_id': '908d5275dd4a4ffa8ea24920f6b3f3cc', 'data': {'method': 'update', 'state': {'value': 16}, 'buffer_paths': []}}, 'buffers': []})\n",
      "2023-05-07 12:33:16,928 - DEBUG - handle_msg[908d5275dd4a4ffa8ea24920f6b3f3cc]({'header': {'date': datetime.datetime(2023, 5, 7, 17, 33, 16, 906000, tzinfo=tzutc()), 'msg_id': '2202eee7f05c45f09c809e6f02f65daa', 'username': 'username', 'session': '8b386ba5d1074cb291d52b6bfff6bca0', 'msg_type': 'comm_msg', 'version': '5.2'}, 'msg_id': '2202eee7f05c45f09c809e6f02f65daa', 'msg_type': 'comm_msg', 'parent_header': {}, 'metadata': {}, 'content': {'comm_id': '908d5275dd4a4ffa8ea24920f6b3f3cc', 'data': {'method': 'update', 'state': {'value': 18}, 'buffer_paths': []}}, 'buffers': []})\n",
      "2023-05-07 12:33:16,975 - DEBUG - handle_msg[908d5275dd4a4ffa8ea24920f6b3f3cc]({'header': {'date': datetime.datetime(2023, 5, 7, 17, 33, 16, 956000, tzinfo=tzutc()), 'msg_id': '60739467735e4294a6e8b309ff4d3d40', 'username': 'username', 'session': '8b386ba5d1074cb291d52b6bfff6bca0', 'msg_type': 'comm_msg', 'version': '5.2'}, 'msg_id': '60739467735e4294a6e8b309ff4d3d40', 'msg_type': 'comm_msg', 'parent_header': {}, 'metadata': {}, 'content': {'comm_id': '908d5275dd4a4ffa8ea24920f6b3f3cc', 'data': {'method': 'update', 'state': {'value': 21}, 'buffer_paths': []}}, 'buffers': []})\n",
      "2023-05-07 12:33:17,029 - DEBUG - handle_msg[908d5275dd4a4ffa8ea24920f6b3f3cc]({'header': {'date': datetime.datetime(2023, 5, 7, 17, 33, 17, 9000, tzinfo=tzutc()), 'msg_id': '815f6f0ccf114dac9fb0a15aa3b1eeb2', 'username': 'username', 'session': '8b386ba5d1074cb291d52b6bfff6bca0', 'msg_type': 'comm_msg', 'version': '5.2'}, 'msg_id': '815f6f0ccf114dac9fb0a15aa3b1eeb2', 'msg_type': 'comm_msg', 'parent_header': {}, 'metadata': {}, 'content': {'comm_id': '908d5275dd4a4ffa8ea24920f6b3f3cc', 'data': {'method': 'update', 'state': {'value': 24}, 'buffer_paths': []}}, 'buffers': []})\n",
      "2023-05-07 12:33:17,081 - DEBUG - handle_msg[908d5275dd4a4ffa8ea24920f6b3f3cc]({'header': {'date': datetime.datetime(2023, 5, 7, 17, 33, 17, 62000, tzinfo=tzutc()), 'msg_id': 'fa1d216806954d078c441b38a93b57a5', 'username': 'username', 'session': '8b386ba5d1074cb291d52b6bfff6bca0', 'msg_type': 'comm_msg', 'version': '5.2'}, 'msg_id': 'fa1d216806954d078c441b38a93b57a5', 'msg_type': 'comm_msg', 'parent_header': {}, 'metadata': {}, 'content': {'comm_id': '908d5275dd4a4ffa8ea24920f6b3f3cc', 'data': {'method': 'update', 'state': {'value': 25}, 'buffer_paths': []}}, 'buffers': []})\n",
      "2023-05-07 12:33:17,131 - DEBUG - handle_msg[908d5275dd4a4ffa8ea24920f6b3f3cc]({'header': {'date': datetime.datetime(2023, 5, 7, 17, 33, 17, 110000, tzinfo=tzutc()), 'msg_id': '3cc4590827ab4037aebc2deb53357587', 'username': 'username', 'session': '8b386ba5d1074cb291d52b6bfff6bca0', 'msg_type': 'comm_msg', 'version': '5.2'}, 'msg_id': '3cc4590827ab4037aebc2deb53357587', 'msg_type': 'comm_msg', 'parent_header': {}, 'metadata': {}, 'content': {'comm_id': '908d5275dd4a4ffa8ea24920f6b3f3cc', 'data': {'method': 'update', 'state': {'value': 27}, 'buffer_paths': []}}, 'buffers': []})\n",
      "2023-05-07 12:33:17,187 - DEBUG - handle_msg[908d5275dd4a4ffa8ea24920f6b3f3cc]({'header': {'date': datetime.datetime(2023, 5, 7, 17, 33, 17, 166000, tzinfo=tzutc()), 'msg_id': 'a8b24221356b47138cb8d103863c7333', 'username': 'username', 'session': '8b386ba5d1074cb291d52b6bfff6bca0', 'msg_type': 'comm_msg', 'version': '5.2'}, 'msg_id': 'a8b24221356b47138cb8d103863c7333', 'msg_type': 'comm_msg', 'parent_header': {}, 'metadata': {}, 'content': {'comm_id': '908d5275dd4a4ffa8ea24920f6b3f3cc', 'data': {'method': 'update', 'state': {'value': 28.000000000000004}, 'buffer_paths': []}}, 'buffers': []})\n",
      "2023-05-07 12:33:17,245 - DEBUG - handle_msg[908d5275dd4a4ffa8ea24920f6b3f3cc]({'header': {'date': datetime.datetime(2023, 5, 7, 17, 33, 17, 223000, tzinfo=tzutc()), 'msg_id': 'd9449a6f25b34a1281986b10290cef84', 'username': 'username', 'session': '8b386ba5d1074cb291d52b6bfff6bca0', 'msg_type': 'comm_msg', 'version': '5.2'}, 'msg_id': 'd9449a6f25b34a1281986b10290cef84', 'msg_type': 'comm_msg', 'parent_header': {}, 'metadata': {}, 'content': {'comm_id': '908d5275dd4a4ffa8ea24920f6b3f3cc', 'data': {'method': 'update', 'state': {'value': 30}, 'buffer_paths': []}}, 'buffers': []})\n",
      "2023-05-07 12:33:17,298 - DEBUG - handle_msg[908d5275dd4a4ffa8ea24920f6b3f3cc]({'header': {'date': datetime.datetime(2023, 5, 7, 17, 33, 17, 279000, tzinfo=tzutc()), 'msg_id': '77d558b8328542378e72d2b8aa40053c', 'username': 'username', 'session': '8b386ba5d1074cb291d52b6bfff6bca0', 'msg_type': 'comm_msg', 'version': '5.2'}, 'msg_id': '77d558b8328542378e72d2b8aa40053c', 'msg_type': 'comm_msg', 'parent_header': {}, 'metadata': {}, 'content': {'comm_id': '908d5275dd4a4ffa8ea24920f6b3f3cc', 'data': {'method': 'update', 'state': {'value': 31}, 'buffer_paths': []}}, 'buffers': []})\n",
      "2023-05-07 12:33:17,361 - DEBUG - handle_msg[908d5275dd4a4ffa8ea24920f6b3f3cc]({'header': {'date': datetime.datetime(2023, 5, 7, 17, 33, 17, 341000, tzinfo=tzutc()), 'msg_id': '05e98765d13b4a21864604d15020b736', 'username': 'username', 'session': '8b386ba5d1074cb291d52b6bfff6bca0', 'msg_type': 'comm_msg', 'version': '5.2'}, 'msg_id': '05e98765d13b4a21864604d15020b736', 'msg_type': 'comm_msg', 'parent_header': {}, 'metadata': {}, 'content': {'comm_id': '908d5275dd4a4ffa8ea24920f6b3f3cc', 'data': {'method': 'update', 'state': {'value': 32}, 'buffer_paths': []}}, 'buffers': []})\n"
     ]
    },
    {
     "name": "stderr",
     "output_type": "stream",
     "text": [
      "2023-05-07 12:33:17,415 - DEBUG - handle_msg[908d5275dd4a4ffa8ea24920f6b3f3cc]({'header': {'date': datetime.datetime(2023, 5, 7, 17, 33, 17, 393000, tzinfo=tzutc()), 'msg_id': 'b5ca7dc8ee4342e8a744ba9e87fd652c', 'username': 'username', 'session': '8b386ba5d1074cb291d52b6bfff6bca0', 'msg_type': 'comm_msg', 'version': '5.2'}, 'msg_id': 'b5ca7dc8ee4342e8a744ba9e87fd652c', 'msg_type': 'comm_msg', 'parent_header': {}, 'metadata': {}, 'content': {'comm_id': '908d5275dd4a4ffa8ea24920f6b3f3cc', 'data': {'method': 'update', 'state': {'value': 34}, 'buffer_paths': []}}, 'buffers': []})\n",
      "2023-05-07 12:33:17,467 - DEBUG - handle_msg[908d5275dd4a4ffa8ea24920f6b3f3cc]({'header': {'date': datetime.datetime(2023, 5, 7, 17, 33, 17, 446000, tzinfo=tzutc()), 'msg_id': '1ec1b8abd07948ac84c1ad05b0e8c7d8', 'username': 'username', 'session': '8b386ba5d1074cb291d52b6bfff6bca0', 'msg_type': 'comm_msg', 'version': '5.2'}, 'msg_id': '1ec1b8abd07948ac84c1ad05b0e8c7d8', 'msg_type': 'comm_msg', 'parent_header': {}, 'metadata': {}, 'content': {'comm_id': '908d5275dd4a4ffa8ea24920f6b3f3cc', 'data': {'method': 'update', 'state': {'value': 37.00000000000001}, 'buffer_paths': []}}, 'buffers': []})\n",
      "2023-05-07 12:33:17,521 - DEBUG - handle_msg[908d5275dd4a4ffa8ea24920f6b3f3cc]({'header': {'date': datetime.datetime(2023, 5, 7, 17, 33, 17, 502000, tzinfo=tzutc()), 'msg_id': 'e3e19629946a46bcb4afe6d09f39b757', 'username': 'username', 'session': '8b386ba5d1074cb291d52b6bfff6bca0', 'msg_type': 'comm_msg', 'version': '5.2'}, 'msg_id': 'e3e19629946a46bcb4afe6d09f39b757', 'msg_type': 'comm_msg', 'parent_header': {}, 'metadata': {}, 'content': {'comm_id': '908d5275dd4a4ffa8ea24920f6b3f3cc', 'data': {'method': 'update', 'state': {'value': 41}, 'buffer_paths': []}}, 'buffers': []})\n",
      "2023-05-07 12:33:17,573 - DEBUG - handle_msg[908d5275dd4a4ffa8ea24920f6b3f3cc]({'header': {'date': datetime.datetime(2023, 5, 7, 17, 33, 17, 554000, tzinfo=tzutc()), 'msg_id': 'd026f445f24e4f4398efccfe17866be0', 'username': 'username', 'session': '8b386ba5d1074cb291d52b6bfff6bca0', 'msg_type': 'comm_msg', 'version': '5.2'}, 'msg_id': 'd026f445f24e4f4398efccfe17866be0', 'msg_type': 'comm_msg', 'parent_header': {}, 'metadata': {}, 'content': {'comm_id': '908d5275dd4a4ffa8ea24920f6b3f3cc', 'data': {'method': 'update', 'state': {'value': 43}, 'buffer_paths': []}}, 'buffers': []})\n",
      "2023-05-07 12:33:17,631 - DEBUG - handle_msg[908d5275dd4a4ffa8ea24920f6b3f3cc]({'header': {'date': datetime.datetime(2023, 5, 7, 17, 33, 17, 612000, tzinfo=tzutc()), 'msg_id': 'a1fd66ffda7e484c87a3ecfc5ec0250a', 'username': 'username', 'session': '8b386ba5d1074cb291d52b6bfff6bca0', 'msg_type': 'comm_msg', 'version': '5.2'}, 'msg_id': 'a1fd66ffda7e484c87a3ecfc5ec0250a', 'msg_type': 'comm_msg', 'parent_header': {}, 'metadata': {}, 'content': {'comm_id': '908d5275dd4a4ffa8ea24920f6b3f3cc', 'data': {'method': 'update', 'state': {'value': 44}, 'buffer_paths': []}}, 'buffers': []})\n",
      "2023-05-07 12:33:17,701 - DEBUG - handle_msg[908d5275dd4a4ffa8ea24920f6b3f3cc]({'header': {'date': datetime.datetime(2023, 5, 7, 17, 33, 17, 675000, tzinfo=tzutc()), 'msg_id': 'f6ceaee1a6f74bd694db4bbc4e363aa7', 'username': 'username', 'session': '8b386ba5d1074cb291d52b6bfff6bca0', 'msg_type': 'comm_msg', 'version': '5.2'}, 'msg_id': 'f6ceaee1a6f74bd694db4bbc4e363aa7', 'msg_type': 'comm_msg', 'parent_header': {}, 'metadata': {}, 'content': {'comm_id': '908d5275dd4a4ffa8ea24920f6b3f3cc', 'data': {'method': 'update', 'state': {'value': 48}, 'buffer_paths': []}}, 'buffers': []})\n",
      "2023-05-07 12:33:17,773 - DEBUG - handle_msg[908d5275dd4a4ffa8ea24920f6b3f3cc]({'header': {'date': datetime.datetime(2023, 5, 7, 17, 33, 17, 750000, tzinfo=tzutc()), 'msg_id': '7eee6f28060d4e3b906a3338190ee93e', 'username': 'username', 'session': '8b386ba5d1074cb291d52b6bfff6bca0', 'msg_type': 'comm_msg', 'version': '5.2'}, 'msg_id': '7eee6f28060d4e3b906a3338190ee93e', 'msg_type': 'comm_msg', 'parent_header': {}, 'metadata': {}, 'content': {'comm_id': '908d5275dd4a4ffa8ea24920f6b3f3cc', 'data': {'method': 'update', 'state': {'value': 56.00000000000001}, 'buffer_paths': []}}, 'buffers': []})\n",
      "2023-05-07 12:33:17,824 - DEBUG - handle_msg[908d5275dd4a4ffa8ea24920f6b3f3cc]({'header': {'date': datetime.datetime(2023, 5, 7, 17, 33, 17, 803000, tzinfo=tzutc()), 'msg_id': 'd52ca7215cd340fa82f9ac9290b4d7a3', 'username': 'username', 'session': '8b386ba5d1074cb291d52b6bfff6bca0', 'msg_type': 'comm_msg', 'version': '5.2'}, 'msg_id': 'd52ca7215cd340fa82f9ac9290b4d7a3', 'msg_type': 'comm_msg', 'parent_header': {}, 'metadata': {}, 'content': {'comm_id': '908d5275dd4a4ffa8ea24920f6b3f3cc', 'data': {'method': 'update', 'state': {'value': 60}, 'buffer_paths': []}}, 'buffers': []})\n",
      "2023-05-07 12:33:17,880 - DEBUG - handle_msg[908d5275dd4a4ffa8ea24920f6b3f3cc]({'header': {'date': datetime.datetime(2023, 5, 7, 17, 33, 17, 858000, tzinfo=tzutc()), 'msg_id': '5a7181f20c1445fe84f30fa5ecd2a59a', 'username': 'username', 'session': '8b386ba5d1074cb291d52b6bfff6bca0', 'msg_type': 'comm_msg', 'version': '5.2'}, 'msg_id': '5a7181f20c1445fe84f30fa5ecd2a59a', 'msg_type': 'comm_msg', 'parent_header': {}, 'metadata': {}, 'content': {'comm_id': '908d5275dd4a4ffa8ea24920f6b3f3cc', 'data': {'method': 'update', 'state': {'value': 61.00000000000001}, 'buffer_paths': []}}, 'buffers': []})\n",
      "2023-05-07 12:33:17,934 - DEBUG - handle_msg[908d5275dd4a4ffa8ea24920f6b3f3cc]({'header': {'date': datetime.datetime(2023, 5, 7, 17, 33, 17, 912000, tzinfo=tzutc()), 'msg_id': '5485382ac9b548e49c98a092a948866c', 'username': 'username', 'session': '8b386ba5d1074cb291d52b6bfff6bca0', 'msg_type': 'comm_msg', 'version': '5.2'}, 'msg_id': '5485382ac9b548e49c98a092a948866c', 'msg_type': 'comm_msg', 'parent_header': {}, 'metadata': {}, 'content': {'comm_id': '908d5275dd4a4ffa8ea24920f6b3f3cc', 'data': {'method': 'update', 'state': {'value': 63}, 'buffer_paths': []}}, 'buffers': []})\n",
      "2023-05-07 12:33:17,984 - DEBUG - handle_msg[908d5275dd4a4ffa8ea24920f6b3f3cc]({'header': {'date': datetime.datetime(2023, 5, 7, 17, 33, 17, 964000, tzinfo=tzutc()), 'msg_id': '9becf550afbb4ba585e9763f865c828e', 'username': 'username', 'session': '8b386ba5d1074cb291d52b6bfff6bca0', 'msg_type': 'comm_msg', 'version': '5.2'}, 'msg_id': '9becf550afbb4ba585e9763f865c828e', 'msg_type': 'comm_msg', 'parent_header': {}, 'metadata': {}, 'content': {'comm_id': '908d5275dd4a4ffa8ea24920f6b3f3cc', 'data': {'method': 'update', 'state': {'value': 66.00000000000001}, 'buffer_paths': []}}, 'buffers': []})\n",
      "2023-05-07 12:33:18,046 - DEBUG - handle_msg[908d5275dd4a4ffa8ea24920f6b3f3cc]({'header': {'date': datetime.datetime(2023, 5, 7, 17, 33, 18, 27000, tzinfo=tzutc()), 'msg_id': '6e9f45af8d58412280474ac909bb36e4', 'username': 'username', 'session': '8b386ba5d1074cb291d52b6bfff6bca0', 'msg_type': 'comm_msg', 'version': '5.2'}, 'msg_id': '6e9f45af8d58412280474ac909bb36e4', 'msg_type': 'comm_msg', 'parent_header': {}, 'metadata': {}, 'content': {'comm_id': '908d5275dd4a4ffa8ea24920f6b3f3cc', 'data': {'method': 'update', 'state': {'value': 67}, 'buffer_paths': []}}, 'buffers': []})\n",
      "2023-05-07 12:33:18,196 - DEBUG - handle_msg[908d5275dd4a4ffa8ea24920f6b3f3cc]({'header': {'date': datetime.datetime(2023, 5, 7, 17, 33, 18, 173000, tzinfo=tzutc()), 'msg_id': '653be69132854b1cb1400900c7e32ef9', 'username': 'username', 'session': '8b386ba5d1074cb291d52b6bfff6bca0', 'msg_type': 'comm_msg', 'version': '5.2'}, 'msg_id': '653be69132854b1cb1400900c7e32ef9', 'msg_type': 'comm_msg', 'parent_header': {}, 'metadata': {}, 'content': {'comm_id': '908d5275dd4a4ffa8ea24920f6b3f3cc', 'data': {'method': 'update', 'state': {'value': 69}, 'buffer_paths': []}}, 'buffers': []})\n",
      "2023-05-07 12:33:18,278 - DEBUG - handle_msg[908d5275dd4a4ffa8ea24920f6b3f3cc]({'header': {'date': datetime.datetime(2023, 5, 7, 17, 33, 18, 257000, tzinfo=tzutc()), 'msg_id': 'b097e3da778c4c23a53ed3a9954a6145', 'username': 'username', 'session': '8b386ba5d1074cb291d52b6bfff6bca0', 'msg_type': 'comm_msg', 'version': '5.2'}, 'msg_id': 'b097e3da778c4c23a53ed3a9954a6145', 'msg_type': 'comm_msg', 'parent_header': {}, 'metadata': {}, 'content': {'comm_id': '908d5275dd4a4ffa8ea24920f6b3f3cc', 'data': {'method': 'update', 'state': {'value': 70.00000000000001}, 'buffer_paths': []}}, 'buffers': []})\n"
     ]
    },
    {
     "name": "stderr",
     "output_type": "stream",
     "text": [
      "2023-05-07 12:33:18,342 - DEBUG - handle_msg[908d5275dd4a4ffa8ea24920f6b3f3cc]({'header': {'date': datetime.datetime(2023, 5, 7, 17, 33, 18, 323000, tzinfo=tzutc()), 'msg_id': '5e8dd2ac054d47549eda86983e4131c8', 'username': 'username', 'session': '8b386ba5d1074cb291d52b6bfff6bca0', 'msg_type': 'comm_msg', 'version': '5.2'}, 'msg_id': '5e8dd2ac054d47549eda86983e4131c8', 'msg_type': 'comm_msg', 'parent_header': {}, 'metadata': {}, 'content': {'comm_id': '908d5275dd4a4ffa8ea24920f6b3f3cc', 'data': {'method': 'update', 'state': {'value': 72}, 'buffer_paths': []}}, 'buffers': []})\n",
      "2023-05-07 12:33:18,401 - DEBUG - handle_msg[908d5275dd4a4ffa8ea24920f6b3f3cc]({'header': {'date': datetime.datetime(2023, 5, 7, 17, 33, 18, 376000, tzinfo=tzutc()), 'msg_id': 'ea8e84d6f8fe4227ba6b175b8aeb1d79', 'username': 'username', 'session': '8b386ba5d1074cb291d52b6bfff6bca0', 'msg_type': 'comm_msg', 'version': '5.2'}, 'msg_id': 'ea8e84d6f8fe4227ba6b175b8aeb1d79', 'msg_type': 'comm_msg', 'parent_header': {}, 'metadata': {}, 'content': {'comm_id': '908d5275dd4a4ffa8ea24920f6b3f3cc', 'data': {'method': 'update', 'state': {'value': 73}, 'buffer_paths': []}}, 'buffers': []})\n",
      "2023-05-07 12:33:18,454 - DEBUG - handle_msg[908d5275dd4a4ffa8ea24920f6b3f3cc]({'header': {'date': datetime.datetime(2023, 5, 7, 17, 33, 18, 434000, tzinfo=tzutc()), 'msg_id': '0e8eee0d986847c18b7a51f7896f7250', 'username': 'username', 'session': '8b386ba5d1074cb291d52b6bfff6bca0', 'msg_type': 'comm_msg', 'version': '5.2'}, 'msg_id': '0e8eee0d986847c18b7a51f7896f7250', 'msg_type': 'comm_msg', 'parent_header': {}, 'metadata': {}, 'content': {'comm_id': '908d5275dd4a4ffa8ea24920f6b3f3cc', 'data': {'method': 'update', 'state': {'value': 76}, 'buffer_paths': []}}, 'buffers': []})\n",
      "2023-05-07 12:33:18,513 - DEBUG - handle_msg[908d5275dd4a4ffa8ea24920f6b3f3cc]({'header': {'date': datetime.datetime(2023, 5, 7, 17, 33, 18, 493000, tzinfo=tzutc()), 'msg_id': '1ca5047b272841f99354daf98f0b897d', 'username': 'username', 'session': '8b386ba5d1074cb291d52b6bfff6bca0', 'msg_type': 'comm_msg', 'version': '5.2'}, 'msg_id': '1ca5047b272841f99354daf98f0b897d', 'msg_type': 'comm_msg', 'parent_header': {}, 'metadata': {}, 'content': {'comm_id': '908d5275dd4a4ffa8ea24920f6b3f3cc', 'data': {'method': 'update', 'state': {'value': 79.00000000000001}, 'buffer_paths': []}}, 'buffers': []})\n",
      "2023-05-07 12:33:18,568 - DEBUG - handle_msg[908d5275dd4a4ffa8ea24920f6b3f3cc]({'header': {'date': datetime.datetime(2023, 5, 7, 17, 33, 18, 544000, tzinfo=tzutc()), 'msg_id': 'ba34ca20cccb4da586bfcdabae166316', 'username': 'username', 'session': '8b386ba5d1074cb291d52b6bfff6bca0', 'msg_type': 'comm_msg', 'version': '5.2'}, 'msg_id': 'ba34ca20cccb4da586bfcdabae166316', 'msg_type': 'comm_msg', 'parent_header': {}, 'metadata': {}, 'content': {'comm_id': '908d5275dd4a4ffa8ea24920f6b3f3cc', 'data': {'method': 'update', 'state': {'value': 82}, 'buffer_paths': []}}, 'buffers': []})\n",
      "2023-05-07 12:33:18,623 - DEBUG - handle_msg[908d5275dd4a4ffa8ea24920f6b3f3cc]({'header': {'date': datetime.datetime(2023, 5, 7, 17, 33, 18, 601000, tzinfo=tzutc()), 'msg_id': '38da34db5a4a42d48aa6b41857a90229', 'username': 'username', 'session': '8b386ba5d1074cb291d52b6bfff6bca0', 'msg_type': 'comm_msg', 'version': '5.2'}, 'msg_id': '38da34db5a4a42d48aa6b41857a90229', 'msg_type': 'comm_msg', 'parent_header': {}, 'metadata': {}, 'content': {'comm_id': '908d5275dd4a4ffa8ea24920f6b3f3cc', 'data': {'method': 'update', 'state': {'value': 83}, 'buffer_paths': []}}, 'buffers': []})\n",
      "2023-05-07 12:33:18,752 - DEBUG - handle_msg[908d5275dd4a4ffa8ea24920f6b3f3cc]({'header': {'date': datetime.datetime(2023, 5, 7, 17, 33, 18, 727000, tzinfo=tzutc()), 'msg_id': '9fc01bc5605a42c19cecdb9cd88e7c96', 'username': 'username', 'session': '8b386ba5d1074cb291d52b6bfff6bca0', 'msg_type': 'comm_msg', 'version': '5.2'}, 'msg_id': '9fc01bc5605a42c19cecdb9cd88e7c96', 'msg_type': 'comm_msg', 'parent_header': {}, 'metadata': {}, 'content': {'comm_id': '908d5275dd4a4ffa8ea24920f6b3f3cc', 'data': {'method': 'update', 'state': {'value': 85}, 'buffer_paths': []}}, 'buffers': []})\n",
      "2023-05-07 12:33:18,810 - DEBUG - handle_msg[908d5275dd4a4ffa8ea24920f6b3f3cc]({'header': {'date': datetime.datetime(2023, 5, 7, 17, 33, 18, 789000, tzinfo=tzutc()), 'msg_id': '38ba8a8e5490410396263f789e6f4e62', 'username': 'username', 'session': '8b386ba5d1074cb291d52b6bfff6bca0', 'msg_type': 'comm_msg', 'version': '5.2'}, 'msg_id': '38ba8a8e5490410396263f789e6f4e62', 'msg_type': 'comm_msg', 'parent_header': {}, 'metadata': {}, 'content': {'comm_id': '908d5275dd4a4ffa8ea24920f6b3f3cc', 'data': {'method': 'update', 'state': {'value': 86}, 'buffer_paths': []}}, 'buffers': []})\n",
      "2023-05-07 12:33:18,865 - DEBUG - handle_msg[908d5275dd4a4ffa8ea24920f6b3f3cc]({'header': {'date': datetime.datetime(2023, 5, 7, 17, 33, 18, 844000, tzinfo=tzutc()), 'msg_id': 'c8fe4d9c113c4294983bc0b7e665e651', 'username': 'username', 'session': '8b386ba5d1074cb291d52b6bfff6bca0', 'msg_type': 'comm_msg', 'version': '5.2'}, 'msg_id': 'c8fe4d9c113c4294983bc0b7e665e651', 'msg_type': 'comm_msg', 'parent_header': {}, 'metadata': {}, 'content': {'comm_id': '908d5275dd4a4ffa8ea24920f6b3f3cc', 'data': {'method': 'update', 'state': {'value': 88}, 'buffer_paths': []}}, 'buffers': []})\n",
      "2023-05-07 12:33:18,918 - DEBUG - handle_msg[908d5275dd4a4ffa8ea24920f6b3f3cc]({'header': {'date': datetime.datetime(2023, 5, 7, 17, 33, 18, 899000, tzinfo=tzutc()), 'msg_id': '44eac52714d449bf8a6947ee8c141db3', 'username': 'username', 'session': '8b386ba5d1074cb291d52b6bfff6bca0', 'msg_type': 'comm_msg', 'version': '5.2'}, 'msg_id': '44eac52714d449bf8a6947ee8c141db3', 'msg_type': 'comm_msg', 'parent_header': {}, 'metadata': {}, 'content': {'comm_id': '908d5275dd4a4ffa8ea24920f6b3f3cc', 'data': {'method': 'update', 'state': {'value': 89.00000000000001}, 'buffer_paths': []}}, 'buffers': []})\n",
      "2023-05-07 12:33:18,969 - DEBUG - handle_msg[908d5275dd4a4ffa8ea24920f6b3f3cc]({'header': {'date': datetime.datetime(2023, 5, 7, 17, 33, 18, 949000, tzinfo=tzutc()), 'msg_id': '2760bece0ce645238552de2279f53221', 'username': 'username', 'session': '8b386ba5d1074cb291d52b6bfff6bca0', 'msg_type': 'comm_msg', 'version': '5.2'}, 'msg_id': '2760bece0ce645238552de2279f53221', 'msg_type': 'comm_msg', 'parent_header': {}, 'metadata': {}, 'content': {'comm_id': '908d5275dd4a4ffa8ea24920f6b3f3cc', 'data': {'method': 'update', 'state': {'value': 92}, 'buffer_paths': []}}, 'buffers': []})\n",
      "2023-05-07 12:33:19,024 - DEBUG - handle_msg[908d5275dd4a4ffa8ea24920f6b3f3cc]({'header': {'date': datetime.datetime(2023, 5, 7, 17, 33, 19, 3000, tzinfo=tzutc()), 'msg_id': 'f2ec8cd59881476688acb811b71837f1', 'username': 'username', 'session': '8b386ba5d1074cb291d52b6bfff6bca0', 'msg_type': 'comm_msg', 'version': '5.2'}, 'msg_id': 'f2ec8cd59881476688acb811b71837f1', 'msg_type': 'comm_msg', 'parent_header': {}, 'metadata': {}, 'content': {'comm_id': '908d5275dd4a4ffa8ea24920f6b3f3cc', 'data': {'method': 'update', 'state': {'value': 95}, 'buffer_paths': []}}, 'buffers': []})\n",
      "2023-05-07 12:33:19,072 - DEBUG - handle_msg[908d5275dd4a4ffa8ea24920f6b3f3cc]({'header': {'date': datetime.datetime(2023, 5, 7, 17, 33, 19, 50000, tzinfo=tzutc()), 'msg_id': '7cd70765f68544c1b78c0021204d10b7', 'username': 'username', 'session': '8b386ba5d1074cb291d52b6bfff6bca0', 'msg_type': 'comm_msg', 'version': '5.2'}, 'msg_id': '7cd70765f68544c1b78c0021204d10b7', 'msg_type': 'comm_msg', 'parent_header': {}, 'metadata': {}, 'content': {'comm_id': '908d5275dd4a4ffa8ea24920f6b3f3cc', 'data': {'method': 'update', 'state': {'value': 101}, 'buffer_paths': []}}, 'buffers': []})\n",
      "2023-05-07 12:33:19,124 - DEBUG - handle_msg[908d5275dd4a4ffa8ea24920f6b3f3cc]({'header': {'date': datetime.datetime(2023, 5, 7, 17, 33, 19, 104000, tzinfo=tzutc()), 'msg_id': '6e91c6b076254dc8bdb710b34daf807f', 'username': 'username', 'session': '8b386ba5d1074cb291d52b6bfff6bca0', 'msg_type': 'comm_msg', 'version': '5.2'}, 'msg_id': '6e91c6b076254dc8bdb710b34daf807f', 'msg_type': 'comm_msg', 'parent_header': {}, 'metadata': {}, 'content': {'comm_id': '908d5275dd4a4ffa8ea24920f6b3f3cc', 'data': {'method': 'update', 'state': {'value': 104}, 'buffer_paths': []}}, 'buffers': []})\n",
      "2023-05-07 12:33:19,175 - DEBUG - handle_msg[908d5275dd4a4ffa8ea24920f6b3f3cc]({'header': {'date': datetime.datetime(2023, 5, 7, 17, 33, 19, 154000, tzinfo=tzutc()), 'msg_id': '7e61d8ea284641b4a081b4ee54da8962', 'username': 'username', 'session': '8b386ba5d1074cb291d52b6bfff6bca0', 'msg_type': 'comm_msg', 'version': '5.2'}, 'msg_id': '7e61d8ea284641b4a081b4ee54da8962', 'msg_type': 'comm_msg', 'parent_header': {}, 'metadata': {}, 'content': {'comm_id': '908d5275dd4a4ffa8ea24920f6b3f3cc', 'data': {'method': 'update', 'state': {'value': 106}, 'buffer_paths': []}}, 'buffers': []})\n"
     ]
    },
    {
     "name": "stderr",
     "output_type": "stream",
     "text": [
      "2023-05-07 12:33:19,229 - DEBUG - handle_msg[908d5275dd4a4ffa8ea24920f6b3f3cc]({'header': {'date': datetime.datetime(2023, 5, 7, 17, 33, 19, 209000, tzinfo=tzutc()), 'msg_id': 'c6651ab162164d439553ce8a9ecc203c', 'username': 'username', 'session': '8b386ba5d1074cb291d52b6bfff6bca0', 'msg_type': 'comm_msg', 'version': '5.2'}, 'msg_id': 'c6651ab162164d439553ce8a9ecc203c', 'msg_type': 'comm_msg', 'parent_header': {}, 'metadata': {}, 'content': {'comm_id': '908d5275dd4a4ffa8ea24920f6b3f3cc', 'data': {'method': 'update', 'state': {'value': 109}, 'buffer_paths': []}}, 'buffers': []})\n",
      "2023-05-07 12:33:19,286 - DEBUG - handle_msg[908d5275dd4a4ffa8ea24920f6b3f3cc]({'header': {'date': datetime.datetime(2023, 5, 7, 17, 33, 19, 265000, tzinfo=tzutc()), 'msg_id': '2579d697de944f8188576f52ef703c8f', 'username': 'username', 'session': '8b386ba5d1074cb291d52b6bfff6bca0', 'msg_type': 'comm_msg', 'version': '5.2'}, 'msg_id': '2579d697de944f8188576f52ef703c8f', 'msg_type': 'comm_msg', 'parent_header': {}, 'metadata': {}, 'content': {'comm_id': '908d5275dd4a4ffa8ea24920f6b3f3cc', 'data': {'method': 'update', 'state': {'value': 111}, 'buffer_paths': []}}, 'buffers': []})\n",
      "2023-05-07 12:33:19,446 - DEBUG - handle_msg[908d5275dd4a4ffa8ea24920f6b3f3cc]({'header': {'date': datetime.datetime(2023, 5, 7, 17, 33, 19, 423000, tzinfo=tzutc()), 'msg_id': 'a401c48690094b94b893cd2e4a0b78ca', 'username': 'username', 'session': '8b386ba5d1074cb291d52b6bfff6bca0', 'msg_type': 'comm_msg', 'version': '5.2'}, 'msg_id': 'a401c48690094b94b893cd2e4a0b78ca', 'msg_type': 'comm_msg', 'parent_header': {}, 'metadata': {}, 'content': {'comm_id': '908d5275dd4a4ffa8ea24920f6b3f3cc', 'data': {'method': 'update', 'state': {'value': 112.00000000000001}, 'buffer_paths': []}}, 'buffers': []})\n",
      "2023-05-07 12:33:19,595 - DEBUG - handle_msg[908d5275dd4a4ffa8ea24920f6b3f3cc]({'header': {'date': datetime.datetime(2023, 5, 7, 17, 33, 19, 572000, tzinfo=tzutc()), 'msg_id': '4590214213c4418588b24c90e05d4f49', 'username': 'username', 'session': '8b386ba5d1074cb291d52b6bfff6bca0', 'msg_type': 'comm_msg', 'version': '5.2'}, 'msg_id': '4590214213c4418588b24c90e05d4f49', 'msg_type': 'comm_msg', 'parent_header': {}, 'metadata': {}, 'content': {'comm_id': '908d5275dd4a4ffa8ea24920f6b3f3cc', 'data': {'method': 'update', 'state': {'value': 114}, 'buffer_paths': []}}, 'buffers': []})\n",
      "2023-05-07 12:33:21,031 - DEBUG - handle_msg[908d5275dd4a4ffa8ea24920f6b3f3cc]({'header': {'date': datetime.datetime(2023, 5, 7, 17, 33, 21, 9000, tzinfo=tzutc()), 'msg_id': 'b1c8aeee33d34ff0b1a64984eb4ed3c7', 'username': 'username', 'session': '8b386ba5d1074cb291d52b6bfff6bca0', 'msg_type': 'comm_msg', 'version': '5.2'}, 'msg_id': 'b1c8aeee33d34ff0b1a64984eb4ed3c7', 'msg_type': 'comm_msg', 'parent_header': {}, 'metadata': {}, 'content': {'comm_id': '908d5275dd4a4ffa8ea24920f6b3f3cc', 'data': {'method': 'update', 'state': {'value': 112.00000000000001}, 'buffer_paths': []}}, 'buffers': []})\n",
      "2023-05-07 12:33:21,992 - DEBUG - handle_msg[908d5275dd4a4ffa8ea24920f6b3f3cc]({'header': {'date': datetime.datetime(2023, 5, 7, 17, 33, 21, 961000, tzinfo=tzutc()), 'msg_id': '110920c62ad142498224ad52601e7381', 'username': 'username', 'session': '8b386ba5d1074cb291d52b6bfff6bca0', 'msg_type': 'comm_msg', 'version': '5.2'}, 'msg_id': '110920c62ad142498224ad52601e7381', 'msg_type': 'comm_msg', 'parent_header': {}, 'metadata': {}, 'content': {'comm_id': '908d5275dd4a4ffa8ea24920f6b3f3cc', 'data': {'method': 'update', 'state': {'value': 111}, 'buffer_paths': []}}, 'buffers': []})\n",
      "2023-05-07 12:33:22,052 - DEBUG - handle_msg[908d5275dd4a4ffa8ea24920f6b3f3cc]({'header': {'date': datetime.datetime(2023, 5, 7, 17, 33, 22, 28000, tzinfo=tzutc()), 'msg_id': '9c87df458c4b4f388e1ca165ea0c7a81', 'username': 'username', 'session': '8b386ba5d1074cb291d52b6bfff6bca0', 'msg_type': 'comm_msg', 'version': '5.2'}, 'msg_id': '9c87df458c4b4f388e1ca165ea0c7a81', 'msg_type': 'comm_msg', 'parent_header': {}, 'metadata': {}, 'content': {'comm_id': '908d5275dd4a4ffa8ea24920f6b3f3cc', 'data': {'method': 'update', 'state': {'value': 109}, 'buffer_paths': []}}, 'buffers': []})\n",
      "2023-05-07 12:33:22,111 - DEBUG - handle_msg[908d5275dd4a4ffa8ea24920f6b3f3cc]({'header': {'date': datetime.datetime(2023, 5, 7, 17, 33, 22, 92000, tzinfo=tzutc()), 'msg_id': '10ccf5f79f8942679ea52edf6550ccd1', 'username': 'username', 'session': '8b386ba5d1074cb291d52b6bfff6bca0', 'msg_type': 'comm_msg', 'version': '5.2'}, 'msg_id': '10ccf5f79f8942679ea52edf6550ccd1', 'msg_type': 'comm_msg', 'parent_header': {}, 'metadata': {}, 'content': {'comm_id': '908d5275dd4a4ffa8ea24920f6b3f3cc', 'data': {'method': 'update', 'state': {'value': 106}, 'buffer_paths': []}}, 'buffers': []})\n",
      "2023-05-07 12:33:22,164 - DEBUG - handle_msg[908d5275dd4a4ffa8ea24920f6b3f3cc]({'header': {'date': datetime.datetime(2023, 5, 7, 17, 33, 22, 144000, tzinfo=tzutc()), 'msg_id': '48aa28649f66424d804da2e30386cd7d', 'username': 'username', 'session': '8b386ba5d1074cb291d52b6bfff6bca0', 'msg_type': 'comm_msg', 'version': '5.2'}, 'msg_id': '48aa28649f66424d804da2e30386cd7d', 'msg_type': 'comm_msg', 'parent_header': {}, 'metadata': {}, 'content': {'comm_id': '908d5275dd4a4ffa8ea24920f6b3f3cc', 'data': {'method': 'update', 'state': {'value': 105}, 'buffer_paths': []}}, 'buffers': []})\n",
      "2023-05-07 12:33:22,226 - DEBUG - handle_msg[908d5275dd4a4ffa8ea24920f6b3f3cc]({'header': {'date': datetime.datetime(2023, 5, 7, 17, 33, 22, 206000, tzinfo=tzutc()), 'msg_id': '37dc6ad5119c4a88bbe6caeeac1595e5', 'username': 'username', 'session': '8b386ba5d1074cb291d52b6bfff6bca0', 'msg_type': 'comm_msg', 'version': '5.2'}, 'msg_id': '37dc6ad5119c4a88bbe6caeeac1595e5', 'msg_type': 'comm_msg', 'parent_header': {}, 'metadata': {}, 'content': {'comm_id': '908d5275dd4a4ffa8ea24920f6b3f3cc', 'data': {'method': 'update', 'state': {'value': 104}, 'buffer_paths': []}}, 'buffers': []})\n",
      "2023-05-07 12:33:22,282 - DEBUG - handle_msg[908d5275dd4a4ffa8ea24920f6b3f3cc]({'header': {'date': datetime.datetime(2023, 5, 7, 17, 33, 22, 263000, tzinfo=tzutc()), 'msg_id': '3dfc7d9f93ba49079210521e8d4bfe5c', 'username': 'username', 'session': '8b386ba5d1074cb291d52b6bfff6bca0', 'msg_type': 'comm_msg', 'version': '5.2'}, 'msg_id': '3dfc7d9f93ba49079210521e8d4bfe5c', 'msg_type': 'comm_msg', 'parent_header': {}, 'metadata': {}, 'content': {'comm_id': '908d5275dd4a4ffa8ea24920f6b3f3cc', 'data': {'method': 'update', 'state': {'value': 102}, 'buffer_paths': []}}, 'buffers': []})\n",
      "2023-05-07 12:33:22,338 - DEBUG - handle_msg[908d5275dd4a4ffa8ea24920f6b3f3cc]({'header': {'date': datetime.datetime(2023, 5, 7, 17, 33, 22, 317000, tzinfo=tzutc()), 'msg_id': '2865bd0cfc9745eb803d6ad7973c4659', 'username': 'username', 'session': '8b386ba5d1074cb291d52b6bfff6bca0', 'msg_type': 'comm_msg', 'version': '5.2'}, 'msg_id': '2865bd0cfc9745eb803d6ad7973c4659', 'msg_type': 'comm_msg', 'parent_header': {}, 'metadata': {}, 'content': {'comm_id': '908d5275dd4a4ffa8ea24920f6b3f3cc', 'data': {'method': 'update', 'state': {'value': 99}, 'buffer_paths': []}}, 'buffers': []})\n",
      "2023-05-07 12:33:22,394 - DEBUG - handle_msg[908d5275dd4a4ffa8ea24920f6b3f3cc]({'header': {'date': datetime.datetime(2023, 5, 7, 17, 33, 22, 373000, tzinfo=tzutc()), 'msg_id': '2151fbb8548f41d39b52b9c7a75086d5', 'username': 'username', 'session': '8b386ba5d1074cb291d52b6bfff6bca0', 'msg_type': 'comm_msg', 'version': '5.2'}, 'msg_id': '2151fbb8548f41d39b52b9c7a75086d5', 'msg_type': 'comm_msg', 'parent_header': {}, 'metadata': {}, 'content': {'comm_id': '908d5275dd4a4ffa8ea24920f6b3f3cc', 'data': {'method': 'update', 'state': {'value': 96}, 'buffer_paths': []}}, 'buffers': []})\n",
      "2023-05-07 12:33:22,446 - DEBUG - handle_msg[908d5275dd4a4ffa8ea24920f6b3f3cc]({'header': {'date': datetime.datetime(2023, 5, 7, 17, 33, 22, 425000, tzinfo=tzutc()), 'msg_id': '783472c422284d6091f58fa19a0be3ab', 'username': 'username', 'session': '8b386ba5d1074cb291d52b6bfff6bca0', 'msg_type': 'comm_msg', 'version': '5.2'}, 'msg_id': '783472c422284d6091f58fa19a0be3ab', 'msg_type': 'comm_msg', 'parent_header': {}, 'metadata': {}, 'content': {'comm_id': '908d5275dd4a4ffa8ea24920f6b3f3cc', 'data': {'method': 'update', 'state': {'value': 95}, 'buffer_paths': []}}, 'buffers': []})\n"
     ]
    },
    {
     "name": "stderr",
     "output_type": "stream",
     "text": [
      "2023-05-07 12:33:22,500 - DEBUG - handle_msg[908d5275dd4a4ffa8ea24920f6b3f3cc]({'header': {'date': datetime.datetime(2023, 5, 7, 17, 33, 22, 476000, tzinfo=tzutc()), 'msg_id': 'c37c4b8d2cfb43e794a966e95c315272', 'username': 'username', 'session': '8b386ba5d1074cb291d52b6bfff6bca0', 'msg_type': 'comm_msg', 'version': '5.2'}, 'msg_id': 'c37c4b8d2cfb43e794a966e95c315272', 'msg_type': 'comm_msg', 'parent_header': {}, 'metadata': {}, 'content': {'comm_id': '908d5275dd4a4ffa8ea24920f6b3f3cc', 'data': {'method': 'update', 'state': {'value': 93}, 'buffer_paths': []}}, 'buffers': []})\n",
      "2023-05-07 12:33:22,553 - DEBUG - handle_msg[908d5275dd4a4ffa8ea24920f6b3f3cc]({'header': {'date': datetime.datetime(2023, 5, 7, 17, 33, 22, 532000, tzinfo=tzutc()), 'msg_id': 'd1f445e4eb044f8da13515c4d44e39b6', 'username': 'username', 'session': '8b386ba5d1074cb291d52b6bfff6bca0', 'msg_type': 'comm_msg', 'version': '5.2'}, 'msg_id': 'd1f445e4eb044f8da13515c4d44e39b6', 'msg_type': 'comm_msg', 'parent_header': {}, 'metadata': {}, 'content': {'comm_id': '908d5275dd4a4ffa8ea24920f6b3f3cc', 'data': {'method': 'update', 'state': {'value': 92}, 'buffer_paths': []}}, 'buffers': []})\n",
      "2023-05-07 12:33:22,606 - DEBUG - handle_msg[908d5275dd4a4ffa8ea24920f6b3f3cc]({'header': {'date': datetime.datetime(2023, 5, 7, 17, 33, 22, 585000, tzinfo=tzutc()), 'msg_id': '0b03ed9f63de492489a0440da08f8bab', 'username': 'username', 'session': '8b386ba5d1074cb291d52b6bfff6bca0', 'msg_type': 'comm_msg', 'version': '5.2'}, 'msg_id': '0b03ed9f63de492489a0440da08f8bab', 'msg_type': 'comm_msg', 'parent_header': {}, 'metadata': {}, 'content': {'comm_id': '908d5275dd4a4ffa8ea24920f6b3f3cc', 'data': {'method': 'update', 'state': {'value': 89.00000000000001}, 'buffer_paths': []}}, 'buffers': []})\n",
      "2023-05-07 12:33:22,660 - DEBUG - handle_msg[908d5275dd4a4ffa8ea24920f6b3f3cc]({'header': {'date': datetime.datetime(2023, 5, 7, 17, 33, 22, 640000, tzinfo=tzutc()), 'msg_id': 'be3aeeea5c654b9283bdbd34311362aa', 'username': 'username', 'session': '8b386ba5d1074cb291d52b6bfff6bca0', 'msg_type': 'comm_msg', 'version': '5.2'}, 'msg_id': 'be3aeeea5c654b9283bdbd34311362aa', 'msg_type': 'comm_msg', 'parent_header': {}, 'metadata': {}, 'content': {'comm_id': '908d5275dd4a4ffa8ea24920f6b3f3cc', 'data': {'method': 'update', 'state': {'value': 88}, 'buffer_paths': []}}, 'buffers': []})\n",
      "2023-05-07 12:33:22,730 - DEBUG - handle_msg[908d5275dd4a4ffa8ea24920f6b3f3cc]({'header': {'date': datetime.datetime(2023, 5, 7, 17, 33, 22, 709000, tzinfo=tzutc()), 'msg_id': 'd6cea40679d344ad82b43e4e4e787799', 'username': 'username', 'session': '8b386ba5d1074cb291d52b6bfff6bca0', 'msg_type': 'comm_msg', 'version': '5.2'}, 'msg_id': 'd6cea40679d344ad82b43e4e4e787799', 'msg_type': 'comm_msg', 'parent_header': {}, 'metadata': {}, 'content': {'comm_id': '908d5275dd4a4ffa8ea24920f6b3f3cc', 'data': {'method': 'update', 'state': {'value': 86}, 'buffer_paths': []}}, 'buffers': []})\n",
      "2023-05-07 12:33:22,804 - DEBUG - handle_msg[908d5275dd4a4ffa8ea24920f6b3f3cc]({'header': {'date': datetime.datetime(2023, 5, 7, 17, 33, 22, 776000, tzinfo=tzutc()), 'msg_id': 'eb720e4168ec46d58fcb5a8eb8f751f4', 'username': 'username', 'session': '8b386ba5d1074cb291d52b6bfff6bca0', 'msg_type': 'comm_msg', 'version': '5.2'}, 'msg_id': 'eb720e4168ec46d58fcb5a8eb8f751f4', 'msg_type': 'comm_msg', 'parent_header': {}, 'metadata': {}, 'content': {'comm_id': '908d5275dd4a4ffa8ea24920f6b3f3cc', 'data': {'method': 'update', 'state': {'value': 83}, 'buffer_paths': []}}, 'buffers': []})\n",
      "2023-05-07 12:33:22,875 - DEBUG - handle_msg[908d5275dd4a4ffa8ea24920f6b3f3cc]({'header': {'date': datetime.datetime(2023, 5, 7, 17, 33, 22, 855000, tzinfo=tzutc()), 'msg_id': '1b6a5d9713a4451e8fc2a8f1a28fac59', 'username': 'username', 'session': '8b386ba5d1074cb291d52b6bfff6bca0', 'msg_type': 'comm_msg', 'version': '5.2'}, 'msg_id': '1b6a5d9713a4451e8fc2a8f1a28fac59', 'msg_type': 'comm_msg', 'parent_header': {}, 'metadata': {}, 'content': {'comm_id': '908d5275dd4a4ffa8ea24920f6b3f3cc', 'data': {'method': 'update', 'state': {'value': 79.00000000000001}, 'buffer_paths': []}}, 'buffers': []})\n",
      "2023-05-07 12:33:22,929 - DEBUG - handle_msg[908d5275dd4a4ffa8ea24920f6b3f3cc]({'header': {'date': datetime.datetime(2023, 5, 7, 17, 33, 22, 909000, tzinfo=tzutc()), 'msg_id': '5eaf82f828df4a9bba6425cb691f5952', 'username': 'username', 'session': '8b386ba5d1074cb291d52b6bfff6bca0', 'msg_type': 'comm_msg', 'version': '5.2'}, 'msg_id': '5eaf82f828df4a9bba6425cb691f5952', 'msg_type': 'comm_msg', 'parent_header': {}, 'metadata': {}, 'content': {'comm_id': '908d5275dd4a4ffa8ea24920f6b3f3cc', 'data': {'method': 'update', 'state': {'value': 77}, 'buffer_paths': []}}, 'buffers': []})\n",
      "2023-05-07 12:33:22,982 - DEBUG - handle_msg[908d5275dd4a4ffa8ea24920f6b3f3cc]({'header': {'date': datetime.datetime(2023, 5, 7, 17, 33, 22, 963000, tzinfo=tzutc()), 'msg_id': 'ac00e03fd0044ab8bbf4cdcc570b5aa6', 'username': 'username', 'session': '8b386ba5d1074cb291d52b6bfff6bca0', 'msg_type': 'comm_msg', 'version': '5.2'}, 'msg_id': 'ac00e03fd0044ab8bbf4cdcc570b5aa6', 'msg_type': 'comm_msg', 'parent_header': {}, 'metadata': {}, 'content': {'comm_id': '908d5275dd4a4ffa8ea24920f6b3f3cc', 'data': {'method': 'update', 'state': {'value': 75.00000000000001}, 'buffer_paths': []}}, 'buffers': []})\n",
      "2023-05-07 12:33:23,037 - DEBUG - handle_msg[908d5275dd4a4ffa8ea24920f6b3f3cc]({'header': {'date': datetime.datetime(2023, 5, 7, 17, 33, 23, 14000, tzinfo=tzutc()), 'msg_id': '3f7e6d6e85d14d9d8412d21484f06159', 'username': 'username', 'session': '8b386ba5d1074cb291d52b6bfff6bca0', 'msg_type': 'comm_msg', 'version': '5.2'}, 'msg_id': '3f7e6d6e85d14d9d8412d21484f06159', 'msg_type': 'comm_msg', 'parent_header': {}, 'metadata': {}, 'content': {'comm_id': '908d5275dd4a4ffa8ea24920f6b3f3cc', 'data': {'method': 'update', 'state': {'value': 72}, 'buffer_paths': []}}, 'buffers': []})\n",
      "2023-05-07 12:33:23,115 - DEBUG - handle_msg[908d5275dd4a4ffa8ea24920f6b3f3cc]({'header': {'date': datetime.datetime(2023, 5, 7, 17, 33, 23, 96000, tzinfo=tzutc()), 'msg_id': '06c718b5b15e4c0d965cd64ca9416da9', 'username': 'username', 'session': '8b386ba5d1074cb291d52b6bfff6bca0', 'msg_type': 'comm_msg', 'version': '5.2'}, 'msg_id': '06c718b5b15e4c0d965cd64ca9416da9', 'msg_type': 'comm_msg', 'parent_header': {}, 'metadata': {}, 'content': {'comm_id': '908d5275dd4a4ffa8ea24920f6b3f3cc', 'data': {'method': 'update', 'state': {'value': 67}, 'buffer_paths': []}}, 'buffers': []})\n",
      "2023-05-07 12:33:23,167 - DEBUG - handle_msg[908d5275dd4a4ffa8ea24920f6b3f3cc]({'header': {'date': datetime.datetime(2023, 5, 7, 17, 33, 23, 146000, tzinfo=tzutc()), 'msg_id': 'ad519d96590b4f1f8da983a07053b078', 'username': 'username', 'session': '8b386ba5d1074cb291d52b6bfff6bca0', 'msg_type': 'comm_msg', 'version': '5.2'}, 'msg_id': 'ad519d96590b4f1f8da983a07053b078', 'msg_type': 'comm_msg', 'parent_header': {}, 'metadata': {}, 'content': {'comm_id': '908d5275dd4a4ffa8ea24920f6b3f3cc', 'data': {'method': 'update', 'state': {'value': 64}, 'buffer_paths': []}}, 'buffers': []})\n",
      "2023-05-07 12:33:23,223 - DEBUG - handle_msg[908d5275dd4a4ffa8ea24920f6b3f3cc]({'header': {'date': datetime.datetime(2023, 5, 7, 17, 33, 23, 203000, tzinfo=tzutc()), 'msg_id': '3f7025e7062440749f72ced372c4265a', 'username': 'username', 'session': '8b386ba5d1074cb291d52b6bfff6bca0', 'msg_type': 'comm_msg', 'version': '5.2'}, 'msg_id': '3f7025e7062440749f72ced372c4265a', 'msg_type': 'comm_msg', 'parent_header': {}, 'metadata': {}, 'content': {'comm_id': '908d5275dd4a4ffa8ea24920f6b3f3cc', 'data': {'method': 'update', 'state': {'value': 60}, 'buffer_paths': []}}, 'buffers': []})\n",
      "2023-05-07 12:33:23,280 - DEBUG - handle_msg[908d5275dd4a4ffa8ea24920f6b3f3cc]({'header': {'date': datetime.datetime(2023, 5, 7, 17, 33, 23, 259000, tzinfo=tzutc()), 'msg_id': 'ee8afb0fb3ed4f65887f18a05df9792b', 'username': 'username', 'session': '8b386ba5d1074cb291d52b6bfff6bca0', 'msg_type': 'comm_msg', 'version': '5.2'}, 'msg_id': 'ee8afb0fb3ed4f65887f18a05df9792b', 'msg_type': 'comm_msg', 'parent_header': {}, 'metadata': {}, 'content': {'comm_id': '908d5275dd4a4ffa8ea24920f6b3f3cc', 'data': {'method': 'update', 'state': {'value': 54}, 'buffer_paths': []}}, 'buffers': []})\n"
     ]
    },
    {
     "name": "stderr",
     "output_type": "stream",
     "text": [
      "2023-05-07 12:33:23,333 - DEBUG - handle_msg[908d5275dd4a4ffa8ea24920f6b3f3cc]({'header': {'date': datetime.datetime(2023, 5, 7, 17, 33, 23, 313000, tzinfo=tzutc()), 'msg_id': '2d437c9031ff423195bf747e29ac8593', 'username': 'username', 'session': '8b386ba5d1074cb291d52b6bfff6bca0', 'msg_type': 'comm_msg', 'version': '5.2'}, 'msg_id': '2d437c9031ff423195bf747e29ac8593', 'msg_type': 'comm_msg', 'parent_header': {}, 'metadata': {}, 'content': {'comm_id': '908d5275dd4a4ffa8ea24920f6b3f3cc', 'data': {'method': 'update', 'state': {'value': 53}, 'buffer_paths': []}}, 'buffers': []})\n",
      "2023-05-07 12:33:23,389 - DEBUG - handle_msg[908d5275dd4a4ffa8ea24920f6b3f3cc]({'header': {'date': datetime.datetime(2023, 5, 7, 17, 33, 23, 369000, tzinfo=tzutc()), 'msg_id': '89dbd98820c94afc9a91a07068afa6c3', 'username': 'username', 'session': '8b386ba5d1074cb291d52b6bfff6bca0', 'msg_type': 'comm_msg', 'version': '5.2'}, 'msg_id': '89dbd98820c94afc9a91a07068afa6c3', 'msg_type': 'comm_msg', 'parent_header': {}, 'metadata': {}, 'content': {'comm_id': '908d5275dd4a4ffa8ea24920f6b3f3cc', 'data': {'method': 'update', 'state': {'value': 51}, 'buffer_paths': []}}, 'buffers': []})\n",
      "2023-05-07 12:33:23,447 - DEBUG - handle_msg[908d5275dd4a4ffa8ea24920f6b3f3cc]({'header': {'date': datetime.datetime(2023, 5, 7, 17, 33, 23, 427000, tzinfo=tzutc()), 'msg_id': 'bbb500abcdc0405e9f4a9226d53ba985', 'username': 'username', 'session': '8b386ba5d1074cb291d52b6bfff6bca0', 'msg_type': 'comm_msg', 'version': '5.2'}, 'msg_id': 'bbb500abcdc0405e9f4a9226d53ba985', 'msg_type': 'comm_msg', 'parent_header': {}, 'metadata': {}, 'content': {'comm_id': '908d5275dd4a4ffa8ea24920f6b3f3cc', 'data': {'method': 'update', 'state': {'value': 50}, 'buffer_paths': []}}, 'buffers': []})\n",
      "2023-05-07 12:33:23,499 - DEBUG - handle_msg[908d5275dd4a4ffa8ea24920f6b3f3cc]({'header': {'date': datetime.datetime(2023, 5, 7, 17, 33, 23, 480000, tzinfo=tzutc()), 'msg_id': '692fc907337c4e9eba82c2375fd902ec', 'username': 'username', 'session': '8b386ba5d1074cb291d52b6bfff6bca0', 'msg_type': 'comm_msg', 'version': '5.2'}, 'msg_id': '692fc907337c4e9eba82c2375fd902ec', 'msg_type': 'comm_msg', 'parent_header': {}, 'metadata': {}, 'content': {'comm_id': '908d5275dd4a4ffa8ea24920f6b3f3cc', 'data': {'method': 'update', 'state': {'value': 48}, 'buffer_paths': []}}, 'buffers': []})\n",
      "2023-05-07 12:33:23,559 - DEBUG - handle_msg[908d5275dd4a4ffa8ea24920f6b3f3cc]({'header': {'date': datetime.datetime(2023, 5, 7, 17, 33, 23, 539000, tzinfo=tzutc()), 'msg_id': 'efe0890526504a9686fa4fd70d7d445d', 'username': 'username', 'session': '8b386ba5d1074cb291d52b6bfff6bca0', 'msg_type': 'comm_msg', 'version': '5.2'}, 'msg_id': 'efe0890526504a9686fa4fd70d7d445d', 'msg_type': 'comm_msg', 'parent_header': {}, 'metadata': {}, 'content': {'comm_id': '908d5275dd4a4ffa8ea24920f6b3f3cc', 'data': {'method': 'update', 'state': {'value': 47}, 'buffer_paths': []}}, 'buffers': []})\n",
      "2023-05-07 12:33:23,624 - DEBUG - handle_msg[908d5275dd4a4ffa8ea24920f6b3f3cc]({'header': {'date': datetime.datetime(2023, 5, 7, 17, 33, 23, 605000, tzinfo=tzutc()), 'msg_id': 'b75d759d3ce44ba9b0f6a3f8aa5ff2bd', 'username': 'username', 'session': '8b386ba5d1074cb291d52b6bfff6bca0', 'msg_type': 'comm_msg', 'version': '5.2'}, 'msg_id': 'b75d759d3ce44ba9b0f6a3f8aa5ff2bd', 'msg_type': 'comm_msg', 'parent_header': {}, 'metadata': {}, 'content': {'comm_id': '908d5275dd4a4ffa8ea24920f6b3f3cc', 'data': {'method': 'update', 'state': {'value': 45}, 'buffer_paths': []}}, 'buffers': []})\n",
      "2023-05-07 12:33:23,695 - DEBUG - handle_msg[908d5275dd4a4ffa8ea24920f6b3f3cc]({'header': {'date': datetime.datetime(2023, 5, 7, 17, 33, 23, 674000, tzinfo=tzutc()), 'msg_id': '7ee80a84ecf24d4598d96dded63001d7', 'username': 'username', 'session': '8b386ba5d1074cb291d52b6bfff6bca0', 'msg_type': 'comm_msg', 'version': '5.2'}, 'msg_id': '7ee80a84ecf24d4598d96dded63001d7', 'msg_type': 'comm_msg', 'parent_header': {}, 'metadata': {}, 'content': {'comm_id': '908d5275dd4a4ffa8ea24920f6b3f3cc', 'data': {'method': 'update', 'state': {'value': 44}, 'buffer_paths': []}}, 'buffers': []})\n",
      "2023-05-07 12:33:23,775 - DEBUG - handle_msg[908d5275dd4a4ffa8ea24920f6b3f3cc]({'header': {'date': datetime.datetime(2023, 5, 7, 17, 33, 23, 755000, tzinfo=tzutc()), 'msg_id': '998405d269f440169e109a39bfe82cf8', 'username': 'username', 'session': '8b386ba5d1074cb291d52b6bfff6bca0', 'msg_type': 'comm_msg', 'version': '5.2'}, 'msg_id': '998405d269f440169e109a39bfe82cf8', 'msg_type': 'comm_msg', 'parent_header': {}, 'metadata': {}, 'content': {'comm_id': '908d5275dd4a4ffa8ea24920f6b3f3cc', 'data': {'method': 'update', 'state': {'value': 43}, 'buffer_paths': []}}, 'buffers': []})\n",
      "2023-05-07 12:33:23,829 - DEBUG - handle_msg[908d5275dd4a4ffa8ea24920f6b3f3cc]({'header': {'date': datetime.datetime(2023, 5, 7, 17, 33, 23, 809000, tzinfo=tzutc()), 'msg_id': '98928858cb694c60a7be501da216c6f0', 'username': 'username', 'session': '8b386ba5d1074cb291d52b6bfff6bca0', 'msg_type': 'comm_msg', 'version': '5.2'}, 'msg_id': '98928858cb694c60a7be501da216c6f0', 'msg_type': 'comm_msg', 'parent_header': {}, 'metadata': {}, 'content': {'comm_id': '908d5275dd4a4ffa8ea24920f6b3f3cc', 'data': {'method': 'update', 'state': {'value': 41}, 'buffer_paths': []}}, 'buffers': []})\n",
      "2023-05-07 12:33:23,883 - DEBUG - handle_msg[908d5275dd4a4ffa8ea24920f6b3f3cc]({'header': {'date': datetime.datetime(2023, 5, 7, 17, 33, 23, 862000, tzinfo=tzutc()), 'msg_id': '1af2adb6e72f430581d48b65e5cfc754', 'username': 'username', 'session': '8b386ba5d1074cb291d52b6bfff6bca0', 'msg_type': 'comm_msg', 'version': '5.2'}, 'msg_id': '1af2adb6e72f430581d48b65e5cfc754', 'msg_type': 'comm_msg', 'parent_header': {}, 'metadata': {}, 'content': {'comm_id': '908d5275dd4a4ffa8ea24920f6b3f3cc', 'data': {'method': 'update', 'state': {'value': 40}, 'buffer_paths': []}}, 'buffers': []})\n",
      "2023-05-07 12:33:23,961 - DEBUG - handle_msg[908d5275dd4a4ffa8ea24920f6b3f3cc]({'header': {'date': datetime.datetime(2023, 5, 7, 17, 33, 23, 938000, tzinfo=tzutc()), 'msg_id': '856725e975a046598066ad58321e44ce', 'username': 'username', 'session': '8b386ba5d1074cb291d52b6bfff6bca0', 'msg_type': 'comm_msg', 'version': '5.2'}, 'msg_id': '856725e975a046598066ad58321e44ce', 'msg_type': 'comm_msg', 'parent_header': {}, 'metadata': {}, 'content': {'comm_id': '908d5275dd4a4ffa8ea24920f6b3f3cc', 'data': {'method': 'update', 'state': {'value': 38}, 'buffer_paths': []}}, 'buffers': []})\n",
      "2023-05-07 12:33:24,050 - DEBUG - handle_msg[908d5275dd4a4ffa8ea24920f6b3f3cc]({'header': {'date': datetime.datetime(2023, 5, 7, 17, 33, 24, 24000, tzinfo=tzutc()), 'msg_id': '942c8a480ced40a6a4535f86105224d1', 'username': 'username', 'session': '8b386ba5d1074cb291d52b6bfff6bca0', 'msg_type': 'comm_msg', 'version': '5.2'}, 'msg_id': '942c8a480ced40a6a4535f86105224d1', 'msg_type': 'comm_msg', 'parent_header': {}, 'metadata': {}, 'content': {'comm_id': '908d5275dd4a4ffa8ea24920f6b3f3cc', 'data': {'method': 'update', 'state': {'value': 37.00000000000001}, 'buffer_paths': []}}, 'buffers': []})\n",
      "2023-05-07 12:33:24,182 - DEBUG - handle_msg[908d5275dd4a4ffa8ea24920f6b3f3cc]({'header': {'date': datetime.datetime(2023, 5, 7, 17, 33, 24, 158000, tzinfo=tzutc()), 'msg_id': 'e2c0c7ea5a034c168eada9443899abad', 'username': 'username', 'session': '8b386ba5d1074cb291d52b6bfff6bca0', 'msg_type': 'comm_msg', 'version': '5.2'}, 'msg_id': 'e2c0c7ea5a034c168eada9443899abad', 'msg_type': 'comm_msg', 'parent_header': {}, 'metadata': {}, 'content': {'comm_id': '908d5275dd4a4ffa8ea24920f6b3f3cc', 'data': {'method': 'update', 'state': {'value': 35.00000000000001}, 'buffer_paths': []}}, 'buffers': []})\n",
      "2023-05-07 12:33:24,366 - DEBUG - handle_msg[908d5275dd4a4ffa8ea24920f6b3f3cc]({'header': {'date': datetime.datetime(2023, 5, 7, 17, 33, 24, 343000, tzinfo=tzutc()), 'msg_id': '4f9209230068424e96d067d75a14061d', 'username': 'username', 'session': '8b386ba5d1074cb291d52b6bfff6bca0', 'msg_type': 'comm_msg', 'version': '5.2'}, 'msg_id': '4f9209230068424e96d067d75a14061d', 'msg_type': 'comm_msg', 'parent_header': {}, 'metadata': {}, 'content': {'comm_id': '908d5275dd4a4ffa8ea24920f6b3f3cc', 'data': {'method': 'update', 'state': {'value': 34}, 'buffer_paths': []}}, 'buffers': []})\n",
      "2023-05-07 12:33:24,598 - DEBUG - handle_msg[908d5275dd4a4ffa8ea24920f6b3f3cc]({'header': {'date': datetime.datetime(2023, 5, 7, 17, 33, 24, 576000, tzinfo=tzutc()), 'msg_id': 'edd3e29dfef24d22896611c3bbd198ea', 'username': 'username', 'session': '8b386ba5d1074cb291d52b6bfff6bca0', 'msg_type': 'comm_msg', 'version': '5.2'}, 'msg_id': 'edd3e29dfef24d22896611c3bbd198ea', 'msg_type': 'comm_msg', 'parent_header': {}, 'metadata': {}, 'content': {'comm_id': '908d5275dd4a4ffa8ea24920f6b3f3cc', 'data': {'method': 'update', 'state': {'value': 32}, 'buffer_paths': []}}, 'buffers': []})\n"
     ]
    },
    {
     "name": "stderr",
     "output_type": "stream",
     "text": [
      "2023-05-07 12:33:25,983 - DEBUG - handle_msg[908d5275dd4a4ffa8ea24920f6b3f3cc]({'header': {'date': datetime.datetime(2023, 5, 7, 17, 33, 25, 960000, tzinfo=tzutc()), 'msg_id': '3ebc99387e1b4b18a0c48e80df041872', 'username': 'username', 'session': '8b386ba5d1074cb291d52b6bfff6bca0', 'msg_type': 'comm_msg', 'version': '5.2'}, 'msg_id': '3ebc99387e1b4b18a0c48e80df041872', 'msg_type': 'comm_msg', 'parent_header': {}, 'metadata': {}, 'content': {'comm_id': '908d5275dd4a4ffa8ea24920f6b3f3cc', 'data': {'method': 'update', 'state': {'value': 31}, 'buffer_paths': []}}, 'buffers': []})\n",
      "2023-05-07 12:33:26,115 - DEBUG - handle_msg[908d5275dd4a4ffa8ea24920f6b3f3cc]({'header': {'date': datetime.datetime(2023, 5, 7, 17, 33, 26, 92000, tzinfo=tzutc()), 'msg_id': 'd0dc23b141aa44c1b0e208f85c83864a', 'username': 'username', 'session': '8b386ba5d1074cb291d52b6bfff6bca0', 'msg_type': 'comm_msg', 'version': '5.2'}, 'msg_id': 'd0dc23b141aa44c1b0e208f85c83864a', 'msg_type': 'comm_msg', 'parent_header': {}, 'metadata': {}, 'content': {'comm_id': '908d5275dd4a4ffa8ea24920f6b3f3cc', 'data': {'method': 'update', 'state': {'value': 30}, 'buffer_paths': []}}, 'buffers': []})\n",
      "2023-05-07 12:33:26,458 - DEBUG - handle_msg[908d5275dd4a4ffa8ea24920f6b3f3cc]({'header': {'date': datetime.datetime(2023, 5, 7, 17, 33, 26, 426000, tzinfo=tzutc()), 'msg_id': 'bbf65887ae9f4ea5b876b08966289aac', 'username': 'username', 'session': '8b386ba5d1074cb291d52b6bfff6bca0', 'msg_type': 'comm_msg', 'version': '5.2'}, 'msg_id': 'bbf65887ae9f4ea5b876b08966289aac', 'msg_type': 'comm_msg', 'parent_header': {}, 'metadata': {}, 'content': {'comm_id': '908d5275dd4a4ffa8ea24920f6b3f3cc', 'data': {'method': 'update', 'state': {'value': 28.000000000000004}, 'buffer_paths': []}}, 'buffers': []})\n",
      "2023-05-07 12:33:26,561 - DEBUG - handle_msg[908d5275dd4a4ffa8ea24920f6b3f3cc]({'header': {'date': datetime.datetime(2023, 5, 7, 17, 33, 26, 539000, tzinfo=tzutc()), 'msg_id': '5ad65dde9da44be781bf097aa7d8dbbd', 'username': 'username', 'session': '8b386ba5d1074cb291d52b6bfff6bca0', 'msg_type': 'comm_msg', 'version': '5.2'}, 'msg_id': '5ad65dde9da44be781bf097aa7d8dbbd', 'msg_type': 'comm_msg', 'parent_header': {}, 'metadata': {}, 'content': {'comm_id': '908d5275dd4a4ffa8ea24920f6b3f3cc', 'data': {'method': 'update', 'state': {'value': 27}, 'buffer_paths': []}}, 'buffers': []})\n",
      "2023-05-07 12:33:26,864 - DEBUG - handle_msg[908d5275dd4a4ffa8ea24920f6b3f3cc]({'header': {'date': datetime.datetime(2023, 5, 7, 17, 33, 26, 841000, tzinfo=tzutc()), 'msg_id': '7d9086d150864178a8955596610fb254', 'username': 'username', 'session': '8b386ba5d1074cb291d52b6bfff6bca0', 'msg_type': 'comm_msg', 'version': '5.2'}, 'msg_id': '7d9086d150864178a8955596610fb254', 'msg_type': 'comm_msg', 'parent_header': {}, 'metadata': {}, 'content': {'comm_id': '908d5275dd4a4ffa8ea24920f6b3f3cc', 'data': {'method': 'update', 'state': {'value': 25}, 'buffer_paths': []}}, 'buffers': []})\n",
      "2023-05-07 12:33:26,928 - DEBUG - handle_msg[908d5275dd4a4ffa8ea24920f6b3f3cc]({'header': {'date': datetime.datetime(2023, 5, 7, 17, 33, 26, 906000, tzinfo=tzutc()), 'msg_id': '1667ca1fa5a849a084ba71cfebb9c6ff', 'username': 'username', 'session': '8b386ba5d1074cb291d52b6bfff6bca0', 'msg_type': 'comm_msg', 'version': '5.2'}, 'msg_id': '1667ca1fa5a849a084ba71cfebb9c6ff', 'msg_type': 'comm_msg', 'parent_header': {}, 'metadata': {}, 'content': {'comm_id': '908d5275dd4a4ffa8ea24920f6b3f3cc', 'data': {'method': 'update', 'state': {'value': 24}, 'buffer_paths': []}}, 'buffers': []})\n",
      "2023-05-07 12:33:26,983 - DEBUG - handle_msg[908d5275dd4a4ffa8ea24920f6b3f3cc]({'header': {'date': datetime.datetime(2023, 5, 7, 17, 33, 26, 961000, tzinfo=tzutc()), 'msg_id': '47a14ec7601349c98b73799fc4f1c40e', 'username': 'username', 'session': '8b386ba5d1074cb291d52b6bfff6bca0', 'msg_type': 'comm_msg', 'version': '5.2'}, 'msg_id': '47a14ec7601349c98b73799fc4f1c40e', 'msg_type': 'comm_msg', 'parent_header': {}, 'metadata': {}, 'content': {'comm_id': '908d5275dd4a4ffa8ea24920f6b3f3cc', 'data': {'method': 'update', 'state': {'value': 22}, 'buffer_paths': []}}, 'buffers': []})\n",
      "2023-05-07 12:33:27,079 - DEBUG - handle_msg[908d5275dd4a4ffa8ea24920f6b3f3cc]({'header': {'date': datetime.datetime(2023, 5, 7, 17, 33, 27, 57000, tzinfo=tzutc()), 'msg_id': 'b92dc3abe2944fe488d5d0b5d629531a', 'username': 'username', 'session': '8b386ba5d1074cb291d52b6bfff6bca0', 'msg_type': 'comm_msg', 'version': '5.2'}, 'msg_id': 'b92dc3abe2944fe488d5d0b5d629531a', 'msg_type': 'comm_msg', 'parent_header': {}, 'metadata': {}, 'content': {'comm_id': '908d5275dd4a4ffa8ea24920f6b3f3cc', 'data': {'method': 'update', 'state': {'value': 21}, 'buffer_paths': []}}, 'buffers': []})\n",
      "2023-05-07 12:33:27,134 - DEBUG - handle_msg[908d5275dd4a4ffa8ea24920f6b3f3cc]({'header': {'date': datetime.datetime(2023, 5, 7, 17, 33, 27, 112000, tzinfo=tzutc()), 'msg_id': '7d8fb5492170411e900ef65329b92dc3', 'username': 'username', 'session': '8b386ba5d1074cb291d52b6bfff6bca0', 'msg_type': 'comm_msg', 'version': '5.2'}, 'msg_id': '7d8fb5492170411e900ef65329b92dc3', 'msg_type': 'comm_msg', 'parent_header': {}, 'metadata': {}, 'content': {'comm_id': '908d5275dd4a4ffa8ea24920f6b3f3cc', 'data': {'method': 'update', 'state': {'value': 19}, 'buffer_paths': []}}, 'buffers': []})\n",
      "2023-05-07 12:33:27,183 - DEBUG - handle_msg[908d5275dd4a4ffa8ea24920f6b3f3cc]({'header': {'date': datetime.datetime(2023, 5, 7, 17, 33, 27, 163000, tzinfo=tzutc()), 'msg_id': '488d03b10fdc4ea2b040c6490661fb62', 'username': 'username', 'session': '8b386ba5d1074cb291d52b6bfff6bca0', 'msg_type': 'comm_msg', 'version': '5.2'}, 'msg_id': '488d03b10fdc4ea2b040c6490661fb62', 'msg_type': 'comm_msg', 'parent_header': {}, 'metadata': {}, 'content': {'comm_id': '908d5275dd4a4ffa8ea24920f6b3f3cc', 'data': {'method': 'update', 'state': {'value': 18}, 'buffer_paths': []}}, 'buffers': []})\n",
      "2023-05-07 12:33:27,231 - DEBUG - handle_msg[908d5275dd4a4ffa8ea24920f6b3f3cc]({'header': {'date': datetime.datetime(2023, 5, 7, 17, 33, 27, 210000, tzinfo=tzutc()), 'msg_id': '3d7fe282f8f341ec9e7450a94d637fc2', 'username': 'username', 'session': '8b386ba5d1074cb291d52b6bfff6bca0', 'msg_type': 'comm_msg', 'version': '5.2'}, 'msg_id': '3d7fe282f8f341ec9e7450a94d637fc2', 'msg_type': 'comm_msg', 'parent_header': {}, 'metadata': {}, 'content': {'comm_id': '908d5275dd4a4ffa8ea24920f6b3f3cc', 'data': {'method': 'update', 'state': {'value': 16}, 'buffer_paths': []}}, 'buffers': []})\n",
      "2023-05-07 12:33:27,346 - DEBUG - handle_msg[908d5275dd4a4ffa8ea24920f6b3f3cc]({'header': {'date': datetime.datetime(2023, 5, 7, 17, 33, 27, 324000, tzinfo=tzutc()), 'msg_id': '417ccef35c7949fa8a63b65f6c0af810', 'username': 'username', 'session': '8b386ba5d1074cb291d52b6bfff6bca0', 'msg_type': 'comm_msg', 'version': '5.2'}, 'msg_id': '417ccef35c7949fa8a63b65f6c0af810', 'msg_type': 'comm_msg', 'parent_header': {}, 'metadata': {}, 'content': {'comm_id': '908d5275dd4a4ffa8ea24920f6b3f3cc', 'data': {'method': 'update', 'state': {'value': 15}, 'buffer_paths': []}}, 'buffers': []})\n",
      "2023-05-07 12:33:28,845 - DEBUG - handle_msg[908d5275dd4a4ffa8ea24920f6b3f3cc]({'header': {'date': datetime.datetime(2023, 5, 7, 17, 33, 28, 808000, tzinfo=tzutc()), 'msg_id': '299706e6e6344bec878088e82f3a7e90', 'username': 'username', 'session': '8b386ba5d1074cb291d52b6bfff6bca0', 'msg_type': 'comm_msg', 'version': '5.2'}, 'msg_id': '299706e6e6344bec878088e82f3a7e90', 'msg_type': 'comm_msg', 'parent_header': {}, 'metadata': {}, 'content': {'comm_id': '908d5275dd4a4ffa8ea24920f6b3f3cc', 'data': {'method': 'update', 'state': {'value': 16}, 'buffer_paths': []}}, 'buffers': []})\n",
      "2023-05-07 12:33:29,048 - DEBUG - handle_msg[908d5275dd4a4ffa8ea24920f6b3f3cc]({'header': {'date': datetime.datetime(2023, 5, 7, 17, 33, 29, 24000, tzinfo=tzutc()), 'msg_id': 'b6c08e18b5e846498e3dc55de6ac0d8e', 'username': 'username', 'session': '8b386ba5d1074cb291d52b6bfff6bca0', 'msg_type': 'comm_msg', 'version': '5.2'}, 'msg_id': 'b6c08e18b5e846498e3dc55de6ac0d8e', 'msg_type': 'comm_msg', 'parent_header': {}, 'metadata': {}, 'content': {'comm_id': '908d5275dd4a4ffa8ea24920f6b3f3cc', 'data': {'method': 'update', 'state': {'value': 18}, 'buffer_paths': []}}, 'buffers': []})\n",
      "2023-05-07 12:33:29,162 - DEBUG - handle_msg[908d5275dd4a4ffa8ea24920f6b3f3cc]({'header': {'date': datetime.datetime(2023, 5, 7, 17, 33, 29, 140000, tzinfo=tzutc()), 'msg_id': '1c6cf6671a3d467280a4b80db4157d7d', 'username': 'username', 'session': '8b386ba5d1074cb291d52b6bfff6bca0', 'msg_type': 'comm_msg', 'version': '5.2'}, 'msg_id': '1c6cf6671a3d467280a4b80db4157d7d', 'msg_type': 'comm_msg', 'parent_header': {}, 'metadata': {}, 'content': {'comm_id': '908d5275dd4a4ffa8ea24920f6b3f3cc', 'data': {'method': 'update', 'state': {'value': 19}, 'buffer_paths': []}}, 'buffers': []})\n"
     ]
    },
    {
     "name": "stderr",
     "output_type": "stream",
     "text": [
      "2023-05-07 12:33:29,213 - DEBUG - handle_msg[908d5275dd4a4ffa8ea24920f6b3f3cc]({'header': {'date': datetime.datetime(2023, 5, 7, 17, 33, 29, 193000, tzinfo=tzutc()), 'msg_id': '85da4b30dec14ab9806f0795490fcb5c', 'username': 'username', 'session': '8b386ba5d1074cb291d52b6bfff6bca0', 'msg_type': 'comm_msg', 'version': '5.2'}, 'msg_id': '85da4b30dec14ab9806f0795490fcb5c', 'msg_type': 'comm_msg', 'parent_header': {}, 'metadata': {}, 'content': {'comm_id': '908d5275dd4a4ffa8ea24920f6b3f3cc', 'data': {'method': 'update', 'state': {'value': 21}, 'buffer_paths': []}}, 'buffers': []})\n",
      "2023-05-07 12:33:29,268 - DEBUG - handle_msg[908d5275dd4a4ffa8ea24920f6b3f3cc]({'header': {'date': datetime.datetime(2023, 5, 7, 17, 33, 29, 247000, tzinfo=tzutc()), 'msg_id': 'e10f3f757f364710822966db867439ca', 'username': 'username', 'session': '8b386ba5d1074cb291d52b6bfff6bca0', 'msg_type': 'comm_msg', 'version': '5.2'}, 'msg_id': 'e10f3f757f364710822966db867439ca', 'msg_type': 'comm_msg', 'parent_header': {}, 'metadata': {}, 'content': {'comm_id': '908d5275dd4a4ffa8ea24920f6b3f3cc', 'data': {'method': 'update', 'state': {'value': 22}, 'buffer_paths': []}}, 'buffers': []})\n",
      "2023-05-07 12:33:29,312 - DEBUG - handle_msg[908d5275dd4a4ffa8ea24920f6b3f3cc]({'header': {'date': datetime.datetime(2023, 5, 7, 17, 33, 29, 292000, tzinfo=tzutc()), 'msg_id': 'b13d6ed2d966451081a288d2e1b93470', 'username': 'username', 'session': '8b386ba5d1074cb291d52b6bfff6bca0', 'msg_type': 'comm_msg', 'version': '5.2'}, 'msg_id': 'b13d6ed2d966451081a288d2e1b93470', 'msg_type': 'comm_msg', 'parent_header': {}, 'metadata': {}, 'content': {'comm_id': '908d5275dd4a4ffa8ea24920f6b3f3cc', 'data': {'method': 'update', 'state': {'value': 24}, 'buffer_paths': []}}, 'buffers': []})\n",
      "2023-05-07 12:33:29,366 - DEBUG - handle_msg[908d5275dd4a4ffa8ea24920f6b3f3cc]({'header': {'date': datetime.datetime(2023, 5, 7, 17, 33, 29, 345000, tzinfo=tzutc()), 'msg_id': '0376bb7b8bb243498f5daca5fc1ebbdd', 'username': 'username', 'session': '8b386ba5d1074cb291d52b6bfff6bca0', 'msg_type': 'comm_msg', 'version': '5.2'}, 'msg_id': '0376bb7b8bb243498f5daca5fc1ebbdd', 'msg_type': 'comm_msg', 'parent_header': {}, 'metadata': {}, 'content': {'comm_id': '908d5275dd4a4ffa8ea24920f6b3f3cc', 'data': {'method': 'update', 'state': {'value': 27}, 'buffer_paths': []}}, 'buffers': []})\n",
      "2023-05-07 12:33:29,420 - DEBUG - handle_msg[908d5275dd4a4ffa8ea24920f6b3f3cc]({'header': {'date': datetime.datetime(2023, 5, 7, 17, 33, 29, 398000, tzinfo=tzutc()), 'msg_id': '01116a2d9bac4b1381b68228c6b490a2', 'username': 'username', 'session': '8b386ba5d1074cb291d52b6bfff6bca0', 'msg_type': 'comm_msg', 'version': '5.2'}, 'msg_id': '01116a2d9bac4b1381b68228c6b490a2', 'msg_type': 'comm_msg', 'parent_header': {}, 'metadata': {}, 'content': {'comm_id': '908d5275dd4a4ffa8ea24920f6b3f3cc', 'data': {'method': 'update', 'state': {'value': 28.000000000000004}, 'buffer_paths': []}}, 'buffers': []})\n",
      "2023-05-07 12:33:29,474 - DEBUG - handle_msg[908d5275dd4a4ffa8ea24920f6b3f3cc]({'header': {'date': datetime.datetime(2023, 5, 7, 17, 33, 29, 452000, tzinfo=tzutc()), 'msg_id': 'bb2d3e4ff6944dbbb2ea7b3f4e523189', 'username': 'username', 'session': '8b386ba5d1074cb291d52b6bfff6bca0', 'msg_type': 'comm_msg', 'version': '5.2'}, 'msg_id': 'bb2d3e4ff6944dbbb2ea7b3f4e523189', 'msg_type': 'comm_msg', 'parent_header': {}, 'metadata': {}, 'content': {'comm_id': '908d5275dd4a4ffa8ea24920f6b3f3cc', 'data': {'method': 'update', 'state': {'value': 31}, 'buffer_paths': []}}, 'buffers': []})\n",
      "2023-05-07 12:33:29,526 - DEBUG - handle_msg[908d5275dd4a4ffa8ea24920f6b3f3cc]({'header': {'date': datetime.datetime(2023, 5, 7, 17, 33, 29, 503000, tzinfo=tzutc()), 'msg_id': '5a820be897fc429694d177a4f8e0afa2', 'username': 'username', 'session': '8b386ba5d1074cb291d52b6bfff6bca0', 'msg_type': 'comm_msg', 'version': '5.2'}, 'msg_id': '5a820be897fc429694d177a4f8e0afa2', 'msg_type': 'comm_msg', 'parent_header': {}, 'metadata': {}, 'content': {'comm_id': '908d5275dd4a4ffa8ea24920f6b3f3cc', 'data': {'method': 'update', 'state': {'value': 32}, 'buffer_paths': []}}, 'buffers': []})\n",
      "2023-05-07 12:33:29,582 - DEBUG - handle_msg[908d5275dd4a4ffa8ea24920f6b3f3cc]({'header': {'date': datetime.datetime(2023, 5, 7, 17, 33, 29, 560000, tzinfo=tzutc()), 'msg_id': '7f4e71144d2441b0907267630653d962', 'username': 'username', 'session': '8b386ba5d1074cb291d52b6bfff6bca0', 'msg_type': 'comm_msg', 'version': '5.2'}, 'msg_id': '7f4e71144d2441b0907267630653d962', 'msg_type': 'comm_msg', 'parent_header': {}, 'metadata': {}, 'content': {'comm_id': '908d5275dd4a4ffa8ea24920f6b3f3cc', 'data': {'method': 'update', 'state': {'value': 34}, 'buffer_paths': []}}, 'buffers': []})\n",
      "2023-05-07 12:33:29,975 - DEBUG - handle_msg[908d5275dd4a4ffa8ea24920f6b3f3cc]({'header': {'date': datetime.datetime(2023, 5, 7, 17, 33, 29, 942000, tzinfo=tzutc()), 'msg_id': 'c30c72781c244d9f82838a59fc6d7b31', 'username': 'username', 'session': '8b386ba5d1074cb291d52b6bfff6bca0', 'msg_type': 'comm_msg', 'version': '5.2'}, 'msg_id': 'c30c72781c244d9f82838a59fc6d7b31', 'msg_type': 'comm_msg', 'parent_header': {}, 'metadata': {}, 'content': {'comm_id': '908d5275dd4a4ffa8ea24920f6b3f3cc', 'data': {'method': 'update', 'state': {'value': 35.00000000000001}, 'buffer_paths': []}}, 'buffers': []})\n",
      "2023-05-07 12:33:30,029 - DEBUG - handle_msg[908d5275dd4a4ffa8ea24920f6b3f3cc]({'header': {'date': datetime.datetime(2023, 5, 7, 17, 33, 30, 9000, tzinfo=tzutc()), 'msg_id': '0e9257b3398a464280706e081c3f1b45', 'username': 'username', 'session': '8b386ba5d1074cb291d52b6bfff6bca0', 'msg_type': 'comm_msg', 'version': '5.2'}, 'msg_id': '0e9257b3398a464280706e081c3f1b45', 'msg_type': 'comm_msg', 'parent_header': {}, 'metadata': {}, 'content': {'comm_id': '908d5275dd4a4ffa8ea24920f6b3f3cc', 'data': {'method': 'update', 'state': {'value': 37.00000000000001}, 'buffer_paths': []}}, 'buffers': []})\n",
      "2023-05-07 12:33:30,145 - DEBUG - handle_msg[908d5275dd4a4ffa8ea24920f6b3f3cc]({'header': {'date': datetime.datetime(2023, 5, 7, 17, 33, 30, 123000, tzinfo=tzutc()), 'msg_id': 'b748dd4df71143ca849c9a6a769344f9', 'username': 'username', 'session': '8b386ba5d1074cb291d52b6bfff6bca0', 'msg_type': 'comm_msg', 'version': '5.2'}, 'msg_id': 'b748dd4df71143ca849c9a6a769344f9', 'msg_type': 'comm_msg', 'parent_header': {}, 'metadata': {}, 'content': {'comm_id': '908d5275dd4a4ffa8ea24920f6b3f3cc', 'data': {'method': 'update', 'state': {'value': 38}, 'buffer_paths': []}}, 'buffers': []})\n",
      "2023-05-07 12:33:30,196 - DEBUG - handle_msg[908d5275dd4a4ffa8ea24920f6b3f3cc]({'header': {'date': datetime.datetime(2023, 5, 7, 17, 33, 30, 177000, tzinfo=tzutc()), 'msg_id': '20402ff31c574cac9f5901605c0b18b6', 'username': 'username', 'session': '8b386ba5d1074cb291d52b6bfff6bca0', 'msg_type': 'comm_msg', 'version': '5.2'}, 'msg_id': '20402ff31c574cac9f5901605c0b18b6', 'msg_type': 'comm_msg', 'parent_header': {}, 'metadata': {}, 'content': {'comm_id': '908d5275dd4a4ffa8ea24920f6b3f3cc', 'data': {'method': 'update', 'state': {'value': 40}, 'buffer_paths': []}}, 'buffers': []})\n",
      "2023-05-07 12:33:30,247 - DEBUG - handle_msg[908d5275dd4a4ffa8ea24920f6b3f3cc]({'header': {'date': datetime.datetime(2023, 5, 7, 17, 33, 30, 228000, tzinfo=tzutc()), 'msg_id': 'cec28209304b4c5a9e79b503cf39839d', 'username': 'username', 'session': '8b386ba5d1074cb291d52b6bfff6bca0', 'msg_type': 'comm_msg', 'version': '5.2'}, 'msg_id': 'cec28209304b4c5a9e79b503cf39839d', 'msg_type': 'comm_msg', 'parent_header': {}, 'metadata': {}, 'content': {'comm_id': '908d5275dd4a4ffa8ea24920f6b3f3cc', 'data': {'method': 'update', 'state': {'value': 43}, 'buffer_paths': []}}, 'buffers': []})\n",
      "2023-05-07 12:33:30,300 - DEBUG - handle_msg[908d5275dd4a4ffa8ea24920f6b3f3cc]({'header': {'date': datetime.datetime(2023, 5, 7, 17, 33, 30, 279000, tzinfo=tzutc()), 'msg_id': 'd31d67f28bfa4b9593619309b4a356c7', 'username': 'username', 'session': '8b386ba5d1074cb291d52b6bfff6bca0', 'msg_type': 'comm_msg', 'version': '5.2'}, 'msg_id': 'd31d67f28bfa4b9593619309b4a356c7', 'msg_type': 'comm_msg', 'parent_header': {}, 'metadata': {}, 'content': {'comm_id': '908d5275dd4a4ffa8ea24920f6b3f3cc', 'data': {'method': 'update', 'state': {'value': 44}, 'buffer_paths': []}}, 'buffers': []})\n"
     ]
    },
    {
     "name": "stderr",
     "output_type": "stream",
     "text": [
      "2023-05-07 12:33:30,355 - DEBUG - handle_msg[908d5275dd4a4ffa8ea24920f6b3f3cc]({'header': {'date': datetime.datetime(2023, 5, 7, 17, 33, 30, 334000, tzinfo=tzutc()), 'msg_id': '3d4ab328c26c44d6a487142f89f4d04c', 'username': 'username', 'session': '8b386ba5d1074cb291d52b6bfff6bca0', 'msg_type': 'comm_msg', 'version': '5.2'}, 'msg_id': '3d4ab328c26c44d6a487142f89f4d04c', 'msg_type': 'comm_msg', 'parent_header': {}, 'metadata': {}, 'content': {'comm_id': '908d5275dd4a4ffa8ea24920f6b3f3cc', 'data': {'method': 'update', 'state': {'value': 47}, 'buffer_paths': []}}, 'buffers': []})\n",
      "2023-05-07 12:33:30,407 - DEBUG - handle_msg[908d5275dd4a4ffa8ea24920f6b3f3cc]({'header': {'date': datetime.datetime(2023, 5, 7, 17, 33, 30, 387000, tzinfo=tzutc()), 'msg_id': 'a51e993def8e4fc69b86a61425be3051', 'username': 'username', 'session': '8b386ba5d1074cb291d52b6bfff6bca0', 'msg_type': 'comm_msg', 'version': '5.2'}, 'msg_id': 'a51e993def8e4fc69b86a61425be3051', 'msg_type': 'comm_msg', 'parent_header': {}, 'metadata': {}, 'content': {'comm_id': '908d5275dd4a4ffa8ea24920f6b3f3cc', 'data': {'method': 'update', 'state': {'value': 50}, 'buffer_paths': []}}, 'buffers': []})\n",
      "2023-05-07 12:33:30,469 - DEBUG - handle_msg[908d5275dd4a4ffa8ea24920f6b3f3cc]({'header': {'date': datetime.datetime(2023, 5, 7, 17, 33, 30, 449000, tzinfo=tzutc()), 'msg_id': '194b60b516544d948a60a2e04818a598', 'username': 'username', 'session': '8b386ba5d1074cb291d52b6bfff6bca0', 'msg_type': 'comm_msg', 'version': '5.2'}, 'msg_id': '194b60b516544d948a60a2e04818a598', 'msg_type': 'comm_msg', 'parent_header': {}, 'metadata': {}, 'content': {'comm_id': '908d5275dd4a4ffa8ea24920f6b3f3cc', 'data': {'method': 'update', 'state': {'value': 53}, 'buffer_paths': []}}, 'buffers': []})\n",
      "2023-05-07 12:33:30,529 - DEBUG - handle_msg[908d5275dd4a4ffa8ea24920f6b3f3cc]({'header': {'date': datetime.datetime(2023, 5, 7, 17, 33, 30, 509000, tzinfo=tzutc()), 'msg_id': '38f39af664dd41a986cb4829f8fec502', 'username': 'username', 'session': '8b386ba5d1074cb291d52b6bfff6bca0', 'msg_type': 'comm_msg', 'version': '5.2'}, 'msg_id': '38f39af664dd41a986cb4829f8fec502', 'msg_type': 'comm_msg', 'parent_header': {}, 'metadata': {}, 'content': {'comm_id': '908d5275dd4a4ffa8ea24920f6b3f3cc', 'data': {'method': 'update', 'state': {'value': 56.00000000000001}, 'buffer_paths': []}}, 'buffers': []})\n",
      "2023-05-07 12:33:30,587 - DEBUG - handle_msg[908d5275dd4a4ffa8ea24920f6b3f3cc]({'header': {'date': datetime.datetime(2023, 5, 7, 17, 33, 30, 564000, tzinfo=tzutc()), 'msg_id': 'f03caac46a6f462c80315c8548da80a5', 'username': 'username', 'session': '8b386ba5d1074cb291d52b6bfff6bca0', 'msg_type': 'comm_msg', 'version': '5.2'}, 'msg_id': 'f03caac46a6f462c80315c8548da80a5', 'msg_type': 'comm_msg', 'parent_header': {}, 'metadata': {}, 'content': {'comm_id': '908d5275dd4a4ffa8ea24920f6b3f3cc', 'data': {'method': 'update', 'state': {'value': 59}, 'buffer_paths': []}}, 'buffers': []})\n",
      "2023-05-07 12:33:30,638 - DEBUG - handle_msg[908d5275dd4a4ffa8ea24920f6b3f3cc]({'header': {'date': datetime.datetime(2023, 5, 7, 17, 33, 30, 619000, tzinfo=tzutc()), 'msg_id': '9bb530a657be4648859e60fe5d4ef874', 'username': 'username', 'session': '8b386ba5d1074cb291d52b6bfff6bca0', 'msg_type': 'comm_msg', 'version': '5.2'}, 'msg_id': '9bb530a657be4648859e60fe5d4ef874', 'msg_type': 'comm_msg', 'parent_header': {}, 'metadata': {}, 'content': {'comm_id': '908d5275dd4a4ffa8ea24920f6b3f3cc', 'data': {'method': 'update', 'state': {'value': 64}, 'buffer_paths': []}}, 'buffers': []})\n",
      "2023-05-07 12:33:30,690 - DEBUG - handle_msg[908d5275dd4a4ffa8ea24920f6b3f3cc]({'header': {'date': datetime.datetime(2023, 5, 7, 17, 33, 30, 669000, tzinfo=tzutc()), 'msg_id': 'f78bc9610b4c42c49dd0b6f0f8c462a7', 'username': 'username', 'session': '8b386ba5d1074cb291d52b6bfff6bca0', 'msg_type': 'comm_msg', 'version': '5.2'}, 'msg_id': 'f78bc9610b4c42c49dd0b6f0f8c462a7', 'msg_type': 'comm_msg', 'parent_header': {}, 'metadata': {}, 'content': {'comm_id': '908d5275dd4a4ffa8ea24920f6b3f3cc', 'data': {'method': 'update', 'state': {'value': 67}, 'buffer_paths': []}}, 'buffers': []})\n",
      "2023-05-07 12:33:30,744 - DEBUG - handle_msg[908d5275dd4a4ffa8ea24920f6b3f3cc]({'header': {'date': datetime.datetime(2023, 5, 7, 17, 33, 30, 725000, tzinfo=tzutc()), 'msg_id': '81a719892b8e447d838db54931f47255', 'username': 'username', 'session': '8b386ba5d1074cb291d52b6bfff6bca0', 'msg_type': 'comm_msg', 'version': '5.2'}, 'msg_id': '81a719892b8e447d838db54931f47255', 'msg_type': 'comm_msg', 'parent_header': {}, 'metadata': {}, 'content': {'comm_id': '908d5275dd4a4ffa8ea24920f6b3f3cc', 'data': {'method': 'update', 'state': {'value': 73}, 'buffer_paths': []}}, 'buffers': []})\n",
      "2023-05-07 12:33:30,800 - DEBUG - handle_msg[908d5275dd4a4ffa8ea24920f6b3f3cc]({'header': {'date': datetime.datetime(2023, 5, 7, 17, 33, 30, 777000, tzinfo=tzutc()), 'msg_id': 'c6e8ef5f305e49a6b9dee418c290d6b1', 'username': 'username', 'session': '8b386ba5d1074cb291d52b6bfff6bca0', 'msg_type': 'comm_msg', 'version': '5.2'}, 'msg_id': 'c6e8ef5f305e49a6b9dee418c290d6b1', 'msg_type': 'comm_msg', 'parent_header': {}, 'metadata': {}, 'content': {'comm_id': '908d5275dd4a4ffa8ea24920f6b3f3cc', 'data': {'method': 'update', 'state': {'value': 76}, 'buffer_paths': []}}, 'buffers': []})\n",
      "2023-05-07 12:33:30,857 - DEBUG - handle_msg[908d5275dd4a4ffa8ea24920f6b3f3cc]({'header': {'date': datetime.datetime(2023, 5, 7, 17, 33, 30, 837000, tzinfo=tzutc()), 'msg_id': 'a4b2a00c999445fc84d450c1eaac466e', 'username': 'username', 'session': '8b386ba5d1074cb291d52b6bfff6bca0', 'msg_type': 'comm_msg', 'version': '5.2'}, 'msg_id': 'a4b2a00c999445fc84d450c1eaac466e', 'msg_type': 'comm_msg', 'parent_header': {}, 'metadata': {}, 'content': {'comm_id': '908d5275dd4a4ffa8ea24920f6b3f3cc', 'data': {'method': 'update', 'state': {'value': 79.00000000000001}, 'buffer_paths': []}}, 'buffers': []})\n",
      "2023-05-07 12:33:30,910 - DEBUG - handle_msg[908d5275dd4a4ffa8ea24920f6b3f3cc]({'header': {'date': datetime.datetime(2023, 5, 7, 17, 33, 30, 890000, tzinfo=tzutc()), 'msg_id': 'b8a7a211a6e0448681425426579655a1', 'username': 'username', 'session': '8b386ba5d1074cb291d52b6bfff6bca0', 'msg_type': 'comm_msg', 'version': '5.2'}, 'msg_id': 'b8a7a211a6e0448681425426579655a1', 'msg_type': 'comm_msg', 'parent_header': {}, 'metadata': {}, 'content': {'comm_id': '908d5275dd4a4ffa8ea24920f6b3f3cc', 'data': {'method': 'update', 'state': {'value': 82}, 'buffer_paths': []}}, 'buffers': []})\n",
      "2023-05-07 12:33:30,967 - DEBUG - handle_msg[908d5275dd4a4ffa8ea24920f6b3f3cc]({'header': {'date': datetime.datetime(2023, 5, 7, 17, 33, 30, 947000, tzinfo=tzutc()), 'msg_id': 'af88910732c945db8181d31629809f3c', 'username': 'username', 'session': '8b386ba5d1074cb291d52b6bfff6bca0', 'msg_type': 'comm_msg', 'version': '5.2'}, 'msg_id': 'af88910732c945db8181d31629809f3c', 'msg_type': 'comm_msg', 'parent_header': {}, 'metadata': {}, 'content': {'comm_id': '908d5275dd4a4ffa8ea24920f6b3f3cc', 'data': {'method': 'update', 'state': {'value': 85}, 'buffer_paths': []}}, 'buffers': []})\n",
      "2023-05-07 12:33:31,020 - DEBUG - handle_msg[908d5275dd4a4ffa8ea24920f6b3f3cc]({'header': {'date': datetime.datetime(2023, 5, 7, 17, 33, 30, 999000, tzinfo=tzutc()), 'msg_id': '6ef19cf5444c48658f5364a6c45fb870', 'username': 'username', 'session': '8b386ba5d1074cb291d52b6bfff6bca0', 'msg_type': 'comm_msg', 'version': '5.2'}, 'msg_id': '6ef19cf5444c48658f5364a6c45fb870', 'msg_type': 'comm_msg', 'parent_header': {}, 'metadata': {}, 'content': {'comm_id': '908d5275dd4a4ffa8ea24920f6b3f3cc', 'data': {'method': 'update', 'state': {'value': 86}, 'buffer_paths': []}}, 'buffers': []})\n",
      "2023-05-07 12:33:31,069 - DEBUG - handle_msg[908d5275dd4a4ffa8ea24920f6b3f3cc]({'header': {'date': datetime.datetime(2023, 5, 7, 17, 33, 31, 48000, tzinfo=tzutc()), 'msg_id': 'f06ed2dba96a4e248e377d55a637aed7', 'username': 'username', 'session': '8b386ba5d1074cb291d52b6bfff6bca0', 'msg_type': 'comm_msg', 'version': '5.2'}, 'msg_id': 'f06ed2dba96a4e248e377d55a637aed7', 'msg_type': 'comm_msg', 'parent_header': {}, 'metadata': {}, 'content': {'comm_id': '908d5275dd4a4ffa8ea24920f6b3f3cc', 'data': {'method': 'update', 'state': {'value': 88}, 'buffer_paths': []}}, 'buffers': []})\n",
      "2023-05-07 12:33:31,120 - DEBUG - handle_msg[908d5275dd4a4ffa8ea24920f6b3f3cc]({'header': {'date': datetime.datetime(2023, 5, 7, 17, 33, 31, 98000, tzinfo=tzutc()), 'msg_id': 'e62112c1ce4446118876eadbb1a95d21', 'username': 'username', 'session': '8b386ba5d1074cb291d52b6bfff6bca0', 'msg_type': 'comm_msg', 'version': '5.2'}, 'msg_id': 'e62112c1ce4446118876eadbb1a95d21', 'msg_type': 'comm_msg', 'parent_header': {}, 'metadata': {}, 'content': {'comm_id': '908d5275dd4a4ffa8ea24920f6b3f3cc', 'data': {'method': 'update', 'state': {'value': 89.00000000000001}, 'buffer_paths': []}}, 'buffers': []})\n"
     ]
    },
    {
     "name": "stderr",
     "output_type": "stream",
     "text": [
      "2023-05-07 12:33:31,172 - DEBUG - handle_msg[908d5275dd4a4ffa8ea24920f6b3f3cc]({'header': {'date': datetime.datetime(2023, 5, 7, 17, 33, 31, 151000, tzinfo=tzutc()), 'msg_id': '0cfbac80ab1d466d8bf1ebea04f883f2', 'username': 'username', 'session': '8b386ba5d1074cb291d52b6bfff6bca0', 'msg_type': 'comm_msg', 'version': '5.2'}, 'msg_id': '0cfbac80ab1d466d8bf1ebea04f883f2', 'msg_type': 'comm_msg', 'parent_header': {}, 'metadata': {}, 'content': {'comm_id': '908d5275dd4a4ffa8ea24920f6b3f3cc', 'data': {'method': 'update', 'state': {'value': 90}, 'buffer_paths': []}}, 'buffers': []})\n",
      "2023-05-07 12:33:31,230 - DEBUG - handle_msg[908d5275dd4a4ffa8ea24920f6b3f3cc]({'header': {'date': datetime.datetime(2023, 5, 7, 17, 33, 31, 209000, tzinfo=tzutc()), 'msg_id': '250e9f41ba6b418fad7d758b0cf97a37', 'username': 'username', 'session': '8b386ba5d1074cb291d52b6bfff6bca0', 'msg_type': 'comm_msg', 'version': '5.2'}, 'msg_id': '250e9f41ba6b418fad7d758b0cf97a37', 'msg_type': 'comm_msg', 'parent_header': {}, 'metadata': {}, 'content': {'comm_id': '908d5275dd4a4ffa8ea24920f6b3f3cc', 'data': {'method': 'update', 'state': {'value': 92}, 'buffer_paths': []}}, 'buffers': []})\n",
      "2023-05-07 12:33:31,281 - DEBUG - handle_msg[908d5275dd4a4ffa8ea24920f6b3f3cc]({'header': {'date': datetime.datetime(2023, 5, 7, 17, 33, 31, 260000, tzinfo=tzutc()), 'msg_id': 'f977261fa8fd48ec99dac0f22d112711', 'username': 'username', 'session': '8b386ba5d1074cb291d52b6bfff6bca0', 'msg_type': 'comm_msg', 'version': '5.2'}, 'msg_id': 'f977261fa8fd48ec99dac0f22d112711', 'msg_type': 'comm_msg', 'parent_header': {}, 'metadata': {}, 'content': {'comm_id': '908d5275dd4a4ffa8ea24920f6b3f3cc', 'data': {'method': 'update', 'state': {'value': 93}, 'buffer_paths': []}}, 'buffers': []})\n"
     ]
    }
   ],
   "source": [
    "import ipywidgets as widgets\n",
    "\n",
    "# Create a dropdown to select the servo number\n",
    "servo_num = widgets.Dropdown(\n",
    "    options=options, \n",
    "    value=0, \n",
    "    description='Servo Number:'\n",
    ")\n",
    "\n",
    "# Create a slider to set the servo angle\n",
    "angle_slider = widgets.FloatSlider(\n",
    "    value=0, \n",
    "    min=0, \n",
    "    max=180, \n",
    "    step=1, \n",
    "    description='Servo Angle:'\n",
    ")\n",
    "kit = ServoKit(channels=16)\n",
    "# Define a function to update the servo angle\n",
    "def update_servo_angle(change):\n",
    "    kit.servo[servo_num.value].angle = change.new\n",
    "    \n",
    "# Connect the slider to the update function\n",
    "angle_slider.observe(update_servo_angle, 'value')\n",
    "\n",
    "# Display the widgets\n",
    "display(servo_num)\n",
    "display(angle_slider)\n"
   ]
  },
  {
   "cell_type": "code",
   "execution_count": null,
   "metadata": {},
   "outputs": [],
   "source": [
    "\n",
    "# right ear oscillate left right, 180=left(inward), 90=right\n",
    "# servo1 = right\n",
    "\n",
    "for i in range(3):\n",
    "    sleep(1)\n",
    "    kit.servo[1].angle = 90\n",
    "    sleep(1)\n",
    "    kit.servo[1].angle = 180"
   ]
  },
  {
   "cell_type": "code",
   "execution_count": null,
   "metadata": {},
   "outputs": [],
   "source": [
    "# left ear oscillate left right, 130=left, 45=right(inward)\n",
    "# servo0 = left\n",
    "\n",
    "for i in range(3):\n",
    "    sleep(1)\n",
    "    kit.servo[0].angle = 45\n",
    "    sleep(1)\n",
    "    kit.servo[0].angle = 130"
   ]
  },
  {
   "cell_type": "code",
   "execution_count": null,
   "metadata": {},
   "outputs": [],
   "source": [
    "# left ear front behind oscillate. 0-front, 90=behind\n",
    "# servo2 = responsible for the movement\n",
    "\n",
    "for i in range(3):\n",
    "    sleep(1)\n",
    "    kit.servo[2].angle = 90\n",
    "    sleep(1)\n",
    "    kit.servo[2].angle = 0"
   ]
  },
  {
   "cell_type": "code",
   "execution_count": null,
   "metadata": {},
   "outputs": [],
   "source": [
    "# right ear front behind oscillate. 180-front, 90=behind\n",
    "# servo3 = responsible for the movement\n",
    "\n",
    "for i in range(3):\n",
    "    sleep(1)\n",
    "    kit.servo[3].angle = 90\n",
    "    sleep(1)\n",
    "    kit.servo[3].angle = 180"
   ]
  },
  {
   "cell_type": "code",
   "execution_count": null,
   "metadata": {},
   "outputs": [],
   "source": [
    "# based on the results above set the angles"
   ]
  },
  {
   "cell_type": "code",
   "execution_count": 4,
   "metadata": {},
   "outputs": [],
   "source": [
    "left_ear_angles = {\n",
    "    'front': 0,\n",
    "    'back': 90,\n",
    "    'mid_front': 45,\n",
    "    'left': 133,\n",
    "    'right': 45,\n",
    "    'mid': 73\n",
    "}\n",
    "\n",
    "right_ear_angles = {\n",
    "    'front': 180,\n",
    "    'back': 90,\n",
    "    'mid_front': 140,\n",
    "    'left': 180,\n",
    "    'right': 90,\n",
    "    'mid': 110\n",
    "}"
   ]
  },
  {
   "cell_type": "code",
   "execution_count": 29,
   "metadata": {},
   "outputs": [
    {
     "name": "stdout",
     "output_type": "stream",
     "text": [
      "Performing ear movements for sad...\n",
      "Returning to default position...\n"
     ]
    },
    {
     "name": "stderr",
     "output_type": "stream",
     "text": [
      "2023-05-07 12:35:02,065 - DEBUG - received: b'01'\n",
      "2023-05-07 12:35:02,071 - DEBUG - received: b'01'\n",
      "2023-05-07 12:35:02,075 - DEBUG - received: b'01'\n",
      "2023-05-07 12:35:02,080 - DEBUG - received: b'01'\n",
      "2023-05-07 12:35:02,085 - DEBUG - received: b'01'\n",
      "2023-05-07 12:35:02,089 - DEBUG - received: b'01'\n",
      "2023-05-07 12:35:02,094 - DEBUG - received: b'01'\n",
      "2023-05-07 12:35:02,099 - DEBUG - received: b'01'\n",
      "2023-05-07 12:35:02,103 - DEBUG - received: b'01'\n",
      "2023-05-07 12:35:02,108 - DEBUG - received: b'01'\n"
     ]
    }
   ],
   "source": [
    "import time\n",
    "from adafruit_servokit import ServoKit\n",
    "\n",
    "# Initialize the ServoKit object and the servos\n",
    "kit = ServoKit(channels=16)\n",
    "left_ear_left_right_servo = kit.servo[0]\n",
    "right_ear_left_right_servo = kit.servo[1]\n",
    "left_ear_front_behind_servo = kit.servo[2]\n",
    "right_ear_front_behind_servo = kit.servo[3]\n",
    "\n",
    "# Define the functions to move the servos in different ways\n",
    "def default_ears():\n",
    "    # bring both ears face front\n",
    "    left_ear_front_behind_servo.angle = left_ear_angles['front']\n",
    "    right_ear_front_behind_servo.angle = right_ear_angles['front']\n",
    "    # bring both ears stay straight in the middle\n",
    "    right_ear_left_right_servo.angle = right_ear_angles['mid']\n",
    "    left_ear_left_right_servo.angle = left_ear_angles['mid']\n",
    "    \n",
    "    emotion_animations('default_face')\n",
    "    \n",
    "\n",
    "def happy_ears():\n",
    "    # bring both ears face front\n",
    "    left_ear_front_behind_servo.angle = left_ear_angles['front']\n",
    "    right_ear_front_behind_servo.angle = right_ear_angles['front']\n",
    "    \n",
    "    # oscillate left right\n",
    "    for i in range(3):\n",
    "        right_ear_left_right_servo.angle = right_ear_angles['left']\n",
    "        left_ear_left_right_servo.angle = left_ear_angles['right']\n",
    "        sleep(1)\n",
    "        right_ear_left_right_servo.angle = right_ear_angles['right']\n",
    "        left_ear_left_right_servo.angle = left_ear_angles['left']\n",
    "        sleep(1)\n",
    "    #add code to show happy face\n",
    "    emotion_animations('happy_face')\n",
    "    \n",
    "def listen_ears():\n",
    "    # bring both ears face front\n",
    "    left_ear_front_behind_servo.angle = left_ear_angles['front']\n",
    "    right_ear_front_behind_servo.angle = right_ear_angles['front']\n",
    "    \n",
    "    right_ear_left_right_servo.angle = right_ear_angles['right']\n",
    "    left_ear_left_right_servo.angle = left_ear_angles['left']\n",
    "    \n",
    "\n",
    "def sad_ears():\n",
    "    # bring both ears face back\n",
    "    left_ear_front_behind_servo.angle = left_ear_angles['back']\n",
    "    right_ear_front_behind_servo.angle = right_ear_angles['back']\n",
    "    \n",
    "    # show sad face\n",
    "    emotion_animations('sad_face')\n",
    "\n",
    "def angry_ears():\n",
    "    # bring both ears face front\n",
    "    left_ear_front_behind_servo.angle = left_ear_angles['front']\n",
    "    right_ear_front_behind_servo.angle = right_ear_angles['front']\n",
    "    \n",
    "    right_ear_left_right_servo.angle = right_ear_angles['left']\n",
    "    left_ear_left_right_servo.angle = left_ear_angles['right']\n",
    "    # add code to show angry face\n",
    "    emotion_animations('angry_face')\n",
    "\n",
    "def fear_ears():\n",
    "    # bring both ears face front\n",
    "    left_ear_front_behind_servo.angle = left_ear_angles['mid_front']\n",
    "    right_ear_front_behind_servo.angle = right_ear_angles['mid_front']\n",
    "    \n",
    "    right_ear_left_right_servo.angle = right_ear_angles['left']\n",
    "    left_ear_left_right_servo.angle = left_ear_angles['right']\n",
    "    # add code to show fear face\n",
    "\n",
    "def disgust_ears():\n",
    "    # bring both ears face front\n",
    "    left_ear_front_behind_servo.angle = left_ear_angles['front']\n",
    "    right_ear_front_behind_servo.angle = right_ear_angles['front']\n",
    "    \n",
    "    right_ear_left_right_servo.angle = right_ear_angles['right']\n",
    "    left_ear_left_right_servo.angle = left_ear_angles['right']\n",
    "    # https://i0.wp.com/media0.giphy.com/media/vcnV29vDVl8U6KJuiR/giphy.gif?resize=640%2C640&ssl=1&crop=1\n",
    "    \n",
    "    # add code for disgust emoji\n",
    "\n",
    "def surprise_ears():\n",
    "    # bring both ears face front\n",
    "    left_ear_front_behind_servo.angle = left_ear_angles['front']\n",
    "    right_ear_front_behind_servo.angle = right_ear_angles['front']\n",
    "    \n",
    "    right_ear_left_right_servo.angle = right_ear_angles['left']\n",
    "    left_ear_left_right_servo.angle = left_ear_angles['mid']    \n",
    "    # add code for surprise emoji\n",
    "\n",
    "# Create a dictionary that maps emotions to their corresponding ear movements\n",
    "emotion_ears = {\n",
    "    'default': default_ears,\n",
    "    'listen': listen_ears,\n",
    "    'happy': happy_ears,\n",
    "    'awesome': happy_ears,\n",
    "    'sad': sad_ears,\n",
    "    'upset': sad_ears,\n",
    "    'disappointed': sad_ears,\n",
    "    'angry': angry_ears,\n",
    "    'furious': angry_ears,\n",
    "    'fear': fear_ears,\n",
    "    'scared': fear_ears,\n",
    "    'disgust': disgust_ears,\n",
    "    'surprise': surprise_ears,\n",
    "    'exited': surprise_ears,\n",
    "    'surprised': surprise_ears,\n",
    "}\n",
    "\n",
    "# Test the ear movements for each emotion\n",
    "emotions = [\n",
    "    ['default'],\n",
    "    ['listen'],\n",
    "    ['happy', 'awesome'],\n",
    "    ['sad', 'upset', 'disappointed'],\n",
    "    ['angry', 'furious'],\n",
    "    ['fear', 'scared'],\n",
    "    ['disgust'],\n",
    "    ['surprise', 'exited', 'surprised'],\n",
    "]\n",
    "\n",
    "emotions = [['sad']]\n",
    "\n",
    "for emotion_list in emotions:\n",
    "    for emotion in emotion_list:\n",
    "        print(f\"Performing ear movements for {emotion}...\")\n",
    "        emotion_ears[emotion]()  # Call the corresponding ear movement function\n",
    "        time.sleep(2)\n",
    "    print(\"Returning to default position...\")\n",
    "    default_ears()  # Reset the ear\n"
   ]
  },
  {
   "cell_type": "code",
   "execution_count": 28,
   "metadata": {},
   "outputs": [],
   "source": [
    "import time\n",
    "import math\n",
    "import multiprocessing \n",
    "from adafruit_servokit import ServoKit\n",
    "import serial\n",
    "import sys\n",
    "import os\n",
    "import re\n",
    "\n",
    "e = \"\\xff\\xff\\xff\"\n",
    "\n",
    "try:\n",
    "    ser = serial.Serial(\"/dev/ttyS0\", 9600, timeout=5)\n",
    "except serial.serialutil.SerialException:\n",
    "    print('could not open serial device /dev/ttyS0')\n",
    "    exit(1)\n",
    "if serial.VERSION <= \"3.0\":\n",
    "    if not ser.isOpen():\n",
    "        ser.open()\n",
    "    else:\n",
    "        if not ser.is_open:\n",
    "            ser.open()\n",
    "\n",
    "def setDownloadBaudrate(ser, baudrate):\n",
    "    ser.write(b\"\")\n",
    "    #ser.write((\"whmi-wri \" + \",\" + str(baudrate) + \",0\" + e).encode('utf-8'))\n",
    "    time.sleep(.05)\n",
    "    ser.baudrate = baudrate\n",
    "    ser.timeout = .5\n",
    "    r = ser.read(1)\n",
    "    if b\"\\x05\" in r:\n",
    "        return True\n",
    "    return False\n",
    "\n",
    "def init():\n",
    "    global ser\n",
    "    setDownloadBaudrate(ser, 9600)\n",
    "\n",
    "def display(images):\n",
    "    for i in images:\n",
    "        ser.write(b\"p0.pic=\")\n",
    "        ser.write(bytes(str(i), 'utf-8'))\n",
    "        ser.write(b\"\\xff\\xff\\xff\")\n",
    "        time.sleep(0.1)\n",
    "        \n",
    "def emotion_animations(em):\n",
    "    if em=='sad_face':\n",
    "        p = multiprocessing.Process(target=display, args=([13,14,15,16], ))\n",
    "        p.start()\n",
    "        sleep(1)\n",
    "    elif em==\"happy_face\":\n",
    "        p = multiprocessing.Process(target=display, args=([0,1,2,3,4,5,6], ))\n",
    "        p.start()\n",
    "        sleep(1)\n",
    "    elif em==\"angry_face\":\n",
    "        p = multiprocessing.Process(target=display, args=([7,8,9,10,11,12], ))\n",
    "        p.start()\n",
    "        sleep(1)\n",
    "    elif em==\"listen_face\":\n",
    "        p = multiprocessing.Process(target=display, args=([13,14,15,16,17,18,19], ))\n",
    "        p.start()\n",
    "        sleep(1)\n",
    "    elif em==\"default_face\":\n",
    "        p = multiprocessing.Process(target=display, args=([0,1,2,3,4,5], ))\n",
    "        p.start()   \n",
    "        sleep(1)        \n",
    "        \n",
    "        "
   ]
  },
  {
   "cell_type": "code",
   "execution_count": 6,
   "metadata": {},
   "outputs": [
    {
     "ename": "ModuleNotFoundError",
     "evalue": "No module named 'dotenv'",
     "output_type": "error",
     "traceback": [
      "\u001b[0;31m---------------------------------------------------------------------------\u001b[0m",
      "\u001b[0;31mModuleNotFoundError\u001b[0m                       Traceback (most recent call last)",
      "Cell \u001b[0;32mIn[6], line 1\u001b[0m\n\u001b[0;32m----> 1\u001b[0m \u001b[38;5;28;01mfrom\u001b[39;00m \u001b[38;5;21;01mdotenv\u001b[39;00m \u001b[38;5;28;01mimport\u001b[39;00m load_dotenv\n\u001b[1;32m      2\u001b[0m \u001b[38;5;28;01mimport\u001b[39;00m \u001b[38;5;21;01mos\u001b[39;00m\n\u001b[1;32m      3\u001b[0m \u001b[38;5;28;01mimport\u001b[39;00m \u001b[38;5;21;01mspeech_recognition\u001b[39;00m \u001b[38;5;28;01mas\u001b[39;00m \u001b[38;5;21;01msr\u001b[39;00m\n",
      "\u001b[0;31mModuleNotFoundError\u001b[0m: No module named 'dotenv'"
     ]
    }
   ],
   "source": [
    "from dotenv import load_dotenv\n",
    "import os\n",
    "import speech_recognition as sr\n",
    "from time import sleep\n",
    "import requests\n",
    "import json\n",
    "from animetts.speech_synthesis import synthesize_ssml\n",
    "import sounddevice as sd\n",
    "import soundfile as sf"
   ]
  },
  {
   "cell_type": "code",
   "execution_count": null,
   "metadata": {},
   "outputs": [],
   "source": [
    "def generate_xml(message, style):\n",
    "    xml = f'<speak version=\"1.0\" xmlns=\"http://www.w3.org/2001/10/synthesis\" xmlns:mstts=\"https://www.w3.org/2001/mstts\" xml:lang=\"en-US\">\\n'\n",
    "    xml += f'    <voice name=\"en-US-JaneNeural\">\\n'\n",
    "    xml += f'        <mstts:express-as style=\"{style}\">\\n'\n",
    "    xml += f'            {message}\\n'\n",
    "    xml += f'        </mstts:express-as>\\n'\n",
    "    xml += f'    </voice>\\n'\n",
    "    xml += f'</speak>'\n",
    "    return xml\n",
    "\n",
    "query = \"How are you all doing\"\n",
    "print('You: ' + query)\n",
    "sleep(3)\n",
    "if True:#query.startswith('naomi') or query.startswith('nami') or query.startswith('now me'):\n",
    "    #resp = api.send_message(query)\n",
    "    #message = resp['message']\n",
    "    message = \"How is everyone doing\"\n",
    "    style = \"cheerful\"\n",
    "\n",
    "    xml_content = generate_xml(message, style)\n",
    "\n",
    "    with open(\"ssml.xml\", \"w\") as file:\n",
    "        file.write(xml_content)\n",
    "    ssml_file_path = os.path.abspath(\"ssml.xml\")\n",
    "\n",
    "    # Synthesize the SSML\n",
    "    wav_file = synthesize_ssml(ssml_file_path)\n",
    "\n",
    "    data, fs = sf.read(wav_file, dtype='int16')\n",
    "    sd.play(data, fs)\n",
    "    status = sd.wait()"
   ]
  },
  {
   "cell_type": "code",
   "execution_count": null,
   "metadata": {},
   "outputs": [],
   "source": []
  },
  {
   "cell_type": "code",
   "execution_count": 25,
   "metadata": {},
   "outputs": [],
   "source": [
    "import os\n",
    "import time\n",
    "import urllib.request\n",
    "from nextion import Nextion\n",
    "\n",
    "def display_image(image_filename, nextion_url):\n",
    "    # Load the image data from file\n",
    "    with open(image_filename, 'rb') as f:\n",
    "        image_data = f.read()\n",
    "\n",
    "    # Connect to the Nextion display\n",
    "    display = Nextion(nextion_url)\n",
    "\n",
    "    # Upload the image data to the Nextion display\n",
    "    url = f\"{nextion_url}/upload/{os.path.basename(image_filename)}\"\n",
    "    req = urllib.request.Request(url, data=image_data, method='POST')\n",
    "    urllib.request.urlopen(req)\n",
    "\n",
    "    # Display the image on the screen\n",
    "    display.set_picture(0)\n",
    "\n",
    "    # Pause for a short time to allow the image to display\n",
    "    time.sleep(2)\n"
   ]
  },
  {
   "cell_type": "code",
   "execution_count": 27,
   "metadata": {},
   "outputs": [
    {
     "ename": "HTTPError",
     "evalue": "HTTP Error 404: NOT FOUND",
     "output_type": "error",
     "traceback": [
      "\u001b[0;31m---------------------------------------------------------------------------\u001b[0m",
      "\u001b[0;31mHTTPError\u001b[0m                                 Traceback (most recent call last)",
      "Cell \u001b[0;32mIn[27], line 3\u001b[0m\n\u001b[1;32m      1\u001b[0m image_filename \u001b[38;5;241m=\u001b[39m \u001b[38;5;124m'\u001b[39m\u001b[38;5;124mimage.jpg\u001b[39m\u001b[38;5;124m'\u001b[39m\n\u001b[1;32m      2\u001b[0m nextion_url \u001b[38;5;241m=\u001b[39m \u001b[38;5;124m'\u001b[39m\u001b[38;5;124mhttp://192.168.4.83\u001b[39m\u001b[38;5;124m'\u001b[39m\n\u001b[0;32m----> 3\u001b[0m \u001b[43mdisplay_image\u001b[49m\u001b[43m(\u001b[49m\u001b[43mimage_filename\u001b[49m\u001b[43m,\u001b[49m\u001b[43m \u001b[49m\u001b[43mnextion_url\u001b[49m\u001b[43m)\u001b[49m\n",
      "Cell \u001b[0;32mIn[25], line 17\u001b[0m, in \u001b[0;36mdisplay_image\u001b[0;34m(image_filename, nextion_url)\u001b[0m\n\u001b[1;32m     15\u001b[0m url \u001b[38;5;241m=\u001b[39m \u001b[38;5;124mf\u001b[39m\u001b[38;5;124m\"\u001b[39m\u001b[38;5;132;01m{\u001b[39;00mnextion_url\u001b[38;5;132;01m}\u001b[39;00m\u001b[38;5;124m/upload/\u001b[39m\u001b[38;5;132;01m{\u001b[39;00mos\u001b[38;5;241m.\u001b[39mpath\u001b[38;5;241m.\u001b[39mbasename(image_filename)\u001b[38;5;132;01m}\u001b[39;00m\u001b[38;5;124m\"\u001b[39m\n\u001b[1;32m     16\u001b[0m req \u001b[38;5;241m=\u001b[39m urllib\u001b[38;5;241m.\u001b[39mrequest\u001b[38;5;241m.\u001b[39mRequest(url, data\u001b[38;5;241m=\u001b[39mimage_data, method\u001b[38;5;241m=\u001b[39m\u001b[38;5;124m'\u001b[39m\u001b[38;5;124mPOST\u001b[39m\u001b[38;5;124m'\u001b[39m)\n\u001b[0;32m---> 17\u001b[0m \u001b[43murllib\u001b[49m\u001b[38;5;241;43m.\u001b[39;49m\u001b[43mrequest\u001b[49m\u001b[38;5;241;43m.\u001b[39;49m\u001b[43murlopen\u001b[49m\u001b[43m(\u001b[49m\u001b[43mreq\u001b[49m\u001b[43m)\u001b[49m\n\u001b[1;32m     19\u001b[0m \u001b[38;5;66;03m# Display the image on the screen\u001b[39;00m\n\u001b[1;32m     20\u001b[0m display\u001b[38;5;241m.\u001b[39mset_picture(\u001b[38;5;241m0\u001b[39m)\n",
      "File \u001b[0;32m/usr/lib/python3.9/urllib/request.py:214\u001b[0m, in \u001b[0;36murlopen\u001b[0;34m(url, data, timeout, cafile, capath, cadefault, context)\u001b[0m\n\u001b[1;32m    212\u001b[0m \u001b[38;5;28;01melse\u001b[39;00m:\n\u001b[1;32m    213\u001b[0m     opener \u001b[38;5;241m=\u001b[39m _opener\n\u001b[0;32m--> 214\u001b[0m \u001b[38;5;28;01mreturn\u001b[39;00m \u001b[43mopener\u001b[49m\u001b[38;5;241;43m.\u001b[39;49m\u001b[43mopen\u001b[49m\u001b[43m(\u001b[49m\u001b[43murl\u001b[49m\u001b[43m,\u001b[49m\u001b[43m \u001b[49m\u001b[43mdata\u001b[49m\u001b[43m,\u001b[49m\u001b[43m \u001b[49m\u001b[43mtimeout\u001b[49m\u001b[43m)\u001b[49m\n",
      "File \u001b[0;32m/usr/lib/python3.9/urllib/request.py:523\u001b[0m, in \u001b[0;36mOpenerDirector.open\u001b[0;34m(self, fullurl, data, timeout)\u001b[0m\n\u001b[1;32m    521\u001b[0m \u001b[38;5;28;01mfor\u001b[39;00m processor \u001b[38;5;129;01min\u001b[39;00m \u001b[38;5;28mself\u001b[39m\u001b[38;5;241m.\u001b[39mprocess_response\u001b[38;5;241m.\u001b[39mget(protocol, []):\n\u001b[1;32m    522\u001b[0m     meth \u001b[38;5;241m=\u001b[39m \u001b[38;5;28mgetattr\u001b[39m(processor, meth_name)\n\u001b[0;32m--> 523\u001b[0m     response \u001b[38;5;241m=\u001b[39m \u001b[43mmeth\u001b[49m\u001b[43m(\u001b[49m\u001b[43mreq\u001b[49m\u001b[43m,\u001b[49m\u001b[43m \u001b[49m\u001b[43mresponse\u001b[49m\u001b[43m)\u001b[49m\n\u001b[1;32m    525\u001b[0m \u001b[38;5;28;01mreturn\u001b[39;00m response\n",
      "File \u001b[0;32m/usr/lib/python3.9/urllib/request.py:632\u001b[0m, in \u001b[0;36mHTTPErrorProcessor.http_response\u001b[0;34m(self, request, response)\u001b[0m\n\u001b[1;32m    629\u001b[0m \u001b[38;5;66;03m# According to RFC 2616, \"2xx\" code indicates that the client's\u001b[39;00m\n\u001b[1;32m    630\u001b[0m \u001b[38;5;66;03m# request was successfully received, understood, and accepted.\u001b[39;00m\n\u001b[1;32m    631\u001b[0m \u001b[38;5;28;01mif\u001b[39;00m \u001b[38;5;129;01mnot\u001b[39;00m (\u001b[38;5;241m200\u001b[39m \u001b[38;5;241m<\u001b[39m\u001b[38;5;241m=\u001b[39m code \u001b[38;5;241m<\u001b[39m \u001b[38;5;241m300\u001b[39m):\n\u001b[0;32m--> 632\u001b[0m     response \u001b[38;5;241m=\u001b[39m \u001b[38;5;28;43mself\u001b[39;49m\u001b[38;5;241;43m.\u001b[39;49m\u001b[43mparent\u001b[49m\u001b[38;5;241;43m.\u001b[39;49m\u001b[43merror\u001b[49m\u001b[43m(\u001b[49m\n\u001b[1;32m    633\u001b[0m \u001b[43m        \u001b[49m\u001b[38;5;124;43m'\u001b[39;49m\u001b[38;5;124;43mhttp\u001b[39;49m\u001b[38;5;124;43m'\u001b[39;49m\u001b[43m,\u001b[49m\u001b[43m \u001b[49m\u001b[43mrequest\u001b[49m\u001b[43m,\u001b[49m\u001b[43m \u001b[49m\u001b[43mresponse\u001b[49m\u001b[43m,\u001b[49m\u001b[43m \u001b[49m\u001b[43mcode\u001b[49m\u001b[43m,\u001b[49m\u001b[43m \u001b[49m\u001b[43mmsg\u001b[49m\u001b[43m,\u001b[49m\u001b[43m \u001b[49m\u001b[43mhdrs\u001b[49m\u001b[43m)\u001b[49m\n\u001b[1;32m    635\u001b[0m \u001b[38;5;28;01mreturn\u001b[39;00m response\n",
      "File \u001b[0;32m/usr/lib/python3.9/urllib/request.py:561\u001b[0m, in \u001b[0;36mOpenerDirector.error\u001b[0;34m(self, proto, *args)\u001b[0m\n\u001b[1;32m    559\u001b[0m \u001b[38;5;28;01mif\u001b[39;00m http_err:\n\u001b[1;32m    560\u001b[0m     args \u001b[38;5;241m=\u001b[39m (\u001b[38;5;28mdict\u001b[39m, \u001b[38;5;124m'\u001b[39m\u001b[38;5;124mdefault\u001b[39m\u001b[38;5;124m'\u001b[39m, \u001b[38;5;124m'\u001b[39m\u001b[38;5;124mhttp_error_default\u001b[39m\u001b[38;5;124m'\u001b[39m) \u001b[38;5;241m+\u001b[39m orig_args\n\u001b[0;32m--> 561\u001b[0m     \u001b[38;5;28;01mreturn\u001b[39;00m \u001b[38;5;28;43mself\u001b[39;49m\u001b[38;5;241;43m.\u001b[39;49m\u001b[43m_call_chain\u001b[49m\u001b[43m(\u001b[49m\u001b[38;5;241;43m*\u001b[39;49m\u001b[43margs\u001b[49m\u001b[43m)\u001b[49m\n",
      "File \u001b[0;32m/usr/lib/python3.9/urllib/request.py:494\u001b[0m, in \u001b[0;36mOpenerDirector._call_chain\u001b[0;34m(self, chain, kind, meth_name, *args)\u001b[0m\n\u001b[1;32m    492\u001b[0m \u001b[38;5;28;01mfor\u001b[39;00m handler \u001b[38;5;129;01min\u001b[39;00m handlers:\n\u001b[1;32m    493\u001b[0m     func \u001b[38;5;241m=\u001b[39m \u001b[38;5;28mgetattr\u001b[39m(handler, meth_name)\n\u001b[0;32m--> 494\u001b[0m     result \u001b[38;5;241m=\u001b[39m \u001b[43mfunc\u001b[49m\u001b[43m(\u001b[49m\u001b[38;5;241;43m*\u001b[39;49m\u001b[43margs\u001b[49m\u001b[43m)\u001b[49m\n\u001b[1;32m    495\u001b[0m     \u001b[38;5;28;01mif\u001b[39;00m result \u001b[38;5;129;01mis\u001b[39;00m \u001b[38;5;129;01mnot\u001b[39;00m \u001b[38;5;28;01mNone\u001b[39;00m:\n\u001b[1;32m    496\u001b[0m         \u001b[38;5;28;01mreturn\u001b[39;00m result\n",
      "File \u001b[0;32m/usr/lib/python3.9/urllib/request.py:641\u001b[0m, in \u001b[0;36mHTTPDefaultErrorHandler.http_error_default\u001b[0;34m(self, req, fp, code, msg, hdrs)\u001b[0m\n\u001b[1;32m    640\u001b[0m \u001b[38;5;28;01mdef\u001b[39;00m \u001b[38;5;21mhttp_error_default\u001b[39m(\u001b[38;5;28mself\u001b[39m, req, fp, code, msg, hdrs):\n\u001b[0;32m--> 641\u001b[0m     \u001b[38;5;28;01mraise\u001b[39;00m HTTPError(req\u001b[38;5;241m.\u001b[39mfull_url, code, msg, hdrs, fp)\n",
      "\u001b[0;31mHTTPError\u001b[0m: HTTP Error 404: NOT FOUND"
     ]
    }
   ],
   "source": [
    "image_filename = 'image.jpg'\n",
    "nextion_url = 'http://192.168.4.83'\n",
    "display_image(image_filename, nextion_url)\n"
   ]
  },
  {
   "cell_type": "code",
   "execution_count": null,
   "metadata": {},
   "outputs": [],
   "source": [
    "# servo 5 min 15 max 110"
   ]
  },
  {
   "cell_type": "code",
   "execution_count": null,
   "metadata": {},
   "outputs": [],
   "source": []
  },
  {
   "cell_type": "code",
   "execution_count": null,
   "metadata": {},
   "outputs": [],
   "source": []
  }
 ],
 "metadata": {
  "kernelspec": {
   "display_name": "Python 3 (ipykernel)",
   "language": "python",
   "name": "python3"
  },
  "language_info": {
   "codemirror_mode": {
    "name": "ipython",
    "version": 3
   },
   "file_extension": ".py",
   "mimetype": "text/x-python",
   "name": "python",
   "nbconvert_exporter": "python",
   "pygments_lexer": "ipython3",
   "version": "3.9.2"
  }
 },
 "nbformat": 4,
 "nbformat_minor": 2
}
